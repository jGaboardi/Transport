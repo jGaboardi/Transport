{
 "cells": [
  {
   "cell_type": "code",
   "execution_count": 1,
   "metadata": {
    "collapsed": false
   },
   "outputs": [],
   "source": [
    "# GNU LESSER GENERAL PUBLIC LICENSE\n",
    "# Version 3, 29 June 2007.\n",
    "# Copyright (C) 2007 Free Software Foundation, Inc. <http://fsf.org/>.\n",
    "# Everyone is permitted to copy and distribute verbatim copies of this \n",
    "# license document, but changing it is not allowed."
   ]
  },
  {
   "cell_type": "markdown",
   "metadata": {},
   "source": [
    "# The Transportation Simplex\n",
    "## Automated Simulation in GIS\n",
    "---\n",
    "\n",
    "### James Gaboardi, 2016"
   ]
  },
  {
   "cell_type": "markdown",
   "metadata": {},
   "source": [
    "---\n",
    "\n",
    "### Primal: minimize the cost needed to ship units from supply facilities to demand facilities.\n",
    "---\n",
    "\n",
    "## $\\text{Minimize}$\n",
    "## &nbsp;&nbsp;&nbsp;&nbsp;&nbsp;&nbsp;&nbsp;&nbsp;$\\displaystyle \\sum_{i \\in I} \\sum_{j \\in J} c_{ij} x_{ij}$\n",
    "## $\\text{Subject To}$\n",
    "## &nbsp;&nbsp;&nbsp;&nbsp;&nbsp;&nbsp;&nbsp;&nbsp;$\\displaystyle \\sum_{j \\in J} x_{ij} \\leq S_i $&nbsp;&nbsp;&nbsp;&nbsp;&nbsp;&nbsp;&nbsp;&nbsp;$\\forall i \\in I$\n",
    "## &nbsp;&nbsp;&nbsp;&nbsp;&nbsp;&nbsp;&nbsp;&nbsp;$\\displaystyle \\sum_{i \\in I} x_{ij} \\geq D_j $&nbsp;&nbsp;&nbsp;&nbsp;&nbsp;&nbsp;&nbsp;&nbsp;$\\forall j \\in J$\n",
    "## &nbsp;&nbsp;&nbsp;&nbsp;&nbsp;&nbsp;&nbsp;&nbsp;$\\displaystyle x_{ij} \\geq 0 $&nbsp;&nbsp;&nbsp;&nbsp;&nbsp;&nbsp;&nbsp;&nbsp;&nbsp;&nbsp;&nbsp;&nbsp;&nbsp;&nbsp;&nbsp;&nbsp;$\\forall i \\in I ; \\forall j \\in J$\n",
    "\n",
    "\n",
    "\n",
    "-----\n",
    "\n",
    "Adapted from:\n",
    "- ***Daskin, M. S. 1995***. Network and Discrete Location: Models, Algorithms, and Applications. Hoboken, NJ, USA: John Wiley & Sons, Inc."
   ]
  },
  {
   "cell_type": "markdown",
   "metadata": {},
   "source": [
    "--------------------"
   ]
  },
  {
   "cell_type": "markdown",
   "metadata": {},
   "source": [
    "## Imports & Set Up"
   ]
  },
  {
   "cell_type": "code",
   "execution_count": 29,
   "metadata": {
    "collapsed": false
   },
   "outputs": [
    {
     "data": {
      "text/html": [
       "\n",
       "    <div class=\"bk-banner\">\n",
       "        <a href=\"http://bokeh.pydata.org\" target=\"_blank\" class=\"bk-logo bk-logo-small bk-logo-notebook\"></a>\n",
       "        <span id=\"b0c5d8ae-d281-47b2-8dfb-4ea9909ac9f3\">Loading BokehJS ...</span>\n",
       "    </div>"
      ]
     },
     "metadata": {},
     "output_type": "display_data"
    },
    {
     "data": {
      "application/javascript": [
       "\n",
       "(function(global) {\n",
       "  function now() {\n",
       "    return new Date();\n",
       "  }\n",
       "\n",
       "  if (typeof (window._bokeh_onload_callbacks) === \"undefined\") {\n",
       "    window._bokeh_onload_callbacks = [];\n",
       "  }\n",
       "\n",
       "  function run_callbacks() {\n",
       "    window._bokeh_onload_callbacks.forEach(function(callback) { callback() });\n",
       "    delete window._bokeh_onload_callbacks\n",
       "    console.info(\"Bokeh: all callbacks have finished\");\n",
       "  }\n",
       "\n",
       "  function load_libs(js_urls, callback) {\n",
       "    window._bokeh_onload_callbacks.push(callback);\n",
       "    if (window._bokeh_is_loading > 0) {\n",
       "      console.log(\"Bokeh: BokehJS is being loaded, scheduling callback at\", now());\n",
       "      return null;\n",
       "    }\n",
       "    if (js_urls == null || js_urls.length === 0) {\n",
       "      run_callbacks();\n",
       "      return null;\n",
       "    }\n",
       "    console.log(\"Bokeh: BokehJS not loaded, scheduling load and callback at\", now());\n",
       "    window._bokeh_is_loading = js_urls.length;\n",
       "    for (var i = 0; i < js_urls.length; i++) {\n",
       "      var url = js_urls[i];\n",
       "      var s = document.createElement('script');\n",
       "      s.src = url;\n",
       "      s.async = false;\n",
       "      s.onreadystatechange = s.onload = function() {\n",
       "        window._bokeh_is_loading--;\n",
       "        if (window._bokeh_is_loading === 0) {\n",
       "          console.log(\"Bokeh: all BokehJS libraries loaded\");\n",
       "          run_callbacks()\n",
       "        }\n",
       "      };\n",
       "      s.onerror = function() {\n",
       "        console.warn(\"failed to load library \" + url);\n",
       "      };\n",
       "      console.log(\"Bokeh: injecting script tag for BokehJS library: \", url);\n",
       "      document.getElementsByTagName(\"head\")[0].appendChild(s);\n",
       "    }\n",
       "  };\n",
       "\n",
       "  var js_urls = ['https://cdn.pydata.org/bokeh/release/bokeh-0.11.1.min.js', 'https://cdn.pydata.org/bokeh/release/bokeh-widgets-0.11.1.min.js', 'https://cdn.pydata.org/bokeh/release/bokeh-compiler-0.11.1.min.js'];\n",
       "\n",
       "  var inline_js = [\n",
       "    function(Bokeh) {\n",
       "      Bokeh.set_log_level(\"info\");\n",
       "    },\n",
       "    \n",
       "    function(Bokeh) {\n",
       "      Bokeh.$(\"#b0c5d8ae-d281-47b2-8dfb-4ea9909ac9f3\").text(\"BokehJS successfully loaded\");\n",
       "    },\n",
       "    function(Bokeh) {\n",
       "      console.log(\"Bokeh: injecting CSS: https://cdn.pydata.org/bokeh/release/bokeh-0.11.1.min.css\");\n",
       "      Bokeh.embed.inject_css(\"https://cdn.pydata.org/bokeh/release/bokeh-0.11.1.min.css\");\n",
       "      console.log(\"Bokeh: injecting CSS: https://cdn.pydata.org/bokeh/release/bokeh-widgets-0.11.1.min.css\");\n",
       "      Bokeh.embed.inject_css(\"https://cdn.pydata.org/bokeh/release/bokeh-widgets-0.11.1.min.css\");\n",
       "    }\n",
       "  ];\n",
       "\n",
       "  function run_inline_js() {\n",
       "    for (var i = 0; i < inline_js.length; i++) {\n",
       "      inline_js[i](window.Bokeh);\n",
       "    }\n",
       "  }\n",
       "\n",
       "  if (window._bokeh_is_loading === 0) {\n",
       "    console.log(\"Bokeh: BokehJS loaded, going straight to plotting\");\n",
       "    run_inline_js();\n",
       "  } else {\n",
       "    load_libs(js_urls, function() {\n",
       "      console.log(\"Bokeh: BokehJS plotting callback run at\", now());\n",
       "      run_inline_js();\n",
       "    });\n",
       "  }\n",
       "}(this));"
      ]
     },
     "metadata": {},
     "output_type": "display_data"
    }
   ],
   "source": [
    "# Imports\n",
    "import pysal as ps\n",
    "import geopandas as gpd\n",
    "import numpy as np\n",
    "import networkx as nx\n",
    "from shapely.geometry import Point\n",
    "import shapely\n",
    "from collections import OrderedDict\n",
    "import pandas as pd\n",
    "import qgrid\n",
    "import gurobipy as gbp\n",
    "import time\n",
    "import bokeh\n",
    "from bokeh.plotting import figure, show, ColumnDataSource\n",
    "from bokeh.io import output_notebook, output_file, show\n",
    "from bokeh.models import (HoverTool, BoxAnnotation, GeoJSONDataSource, \n",
    "                          GMapPlot, GMapOptions, ColumnDataSource, Circle, \n",
    "                          DataRange1d, PanTool, WheelZoomTool, BoxSelectTool,\n",
    "                          ResetTool, MultiLine)\n",
    "import utm\n",
    "import matplotlib.pyplot as plt\n",
    "import matplotlib as mpl\n",
    "\n",
    "# MatPlotLib for Visualizations inline\n",
    "%matplotlib inline\n",
    "\n",
    "# Local path on user's machine\n",
    "path = '/Users/jgaboardi/Transport/Data/'\n",
    "#path = 'path/to/data/'\n",
    "\n",
    "# Set Random Seed\n",
    "np.random.seed(850)\n",
    "\n",
    "# Out inline notebook for Bokeh\n",
    "output_notebook()"
   ]
  },
  {
   "cell_type": "markdown",
   "metadata": {},
   "source": [
    "## Data preparation and creation"
   ]
  },
  {
   "cell_type": "markdown",
   "metadata": {},
   "source": [
    "### Reproject the street network with `GeoPandas`"
   ]
  },
  {
   "cell_type": "code",
   "execution_count": 3,
   "metadata": {
    "collapsed": false
   },
   "outputs": [
    {
     "data": {
      "text/html": [
       "<div>\n",
       "<table border=\"1\" class=\"dataframe\">\n",
       "  <thead>\n",
       "    <tr style=\"text-align: right;\">\n",
       "      <th></th>\n",
       "      <th>ACCESS_</th>\n",
       "      <th>ALIAS_NAME</th>\n",
       "      <th>BUILT_DATE</th>\n",
       "      <th>BUILT_STAT</th>\n",
       "      <th>CLASS</th>\n",
       "      <th>CONN_TYPE</th>\n",
       "      <th>COUNTY</th>\n",
       "      <th>EDIT_BY</th>\n",
       "      <th>EDIT_DATE</th>\n",
       "      <th>EDIT_TYPE</th>\n",
       "      <th>...</th>\n",
       "      <th>SOURCE</th>\n",
       "      <th>SPEED</th>\n",
       "      <th>STATUS</th>\n",
       "      <th>SUFFIX</th>\n",
       "      <th>TF_COST</th>\n",
       "      <th>THEOR_RANG</th>\n",
       "      <th>TRAVEL_FLA</th>\n",
       "      <th>TYPE</th>\n",
       "      <th>T_ELEV</th>\n",
       "      <th>geometry</th>\n",
       "    </tr>\n",
       "  </thead>\n",
       "  <tbody>\n",
       "    <tr>\n",
       "      <th>0</th>\n",
       "      <td>None</td>\n",
       "      <td>SR - 61</td>\n",
       "      <td>None</td>\n",
       "      <td>BUILT</td>\n",
       "      <td>8</td>\n",
       "      <td>CONN</td>\n",
       "      <td>LEON</td>\n",
       "      <td>HAGESETHC</td>\n",
       "      <td>2014-02-26</td>\n",
       "      <td>O</td>\n",
       "      <td>...</td>\n",
       "      <td>DOP2008TFC</td>\n",
       "      <td>5</td>\n",
       "      <td>O</td>\n",
       "      <td>None</td>\n",
       "      <td>0.090264</td>\n",
       "      <td>N</td>\n",
       "      <td>2</td>\n",
       "      <td>RD</td>\n",
       "      <td>0</td>\n",
       "      <td>LINESTRING (623093.510832076 164171.1041567803...</td>\n",
       "    </tr>\n",
       "    <tr>\n",
       "      <th>1</th>\n",
       "      <td>None</td>\n",
       "      <td>SR - 61</td>\n",
       "      <td>None</td>\n",
       "      <td>BUILT</td>\n",
       "      <td>8</td>\n",
       "      <td>INTE</td>\n",
       "      <td>LEON</td>\n",
       "      <td>HAGESETHC</td>\n",
       "      <td>2014-02-26</td>\n",
       "      <td>O</td>\n",
       "      <td>...</td>\n",
       "      <td>FDOR2007TFC</td>\n",
       "      <td>25</td>\n",
       "      <td>O</td>\n",
       "      <td>None</td>\n",
       "      <td>0.017222</td>\n",
       "      <td>N</td>\n",
       "      <td>2</td>\n",
       "      <td>RD</td>\n",
       "      <td>0</td>\n",
       "      <td>LINESTRING (622515.1922320754 163214.635256776...</td>\n",
       "    </tr>\n",
       "    <tr>\n",
       "      <th>2</th>\n",
       "      <td>None</td>\n",
       "      <td>SR - 61</td>\n",
       "      <td>None</td>\n",
       "      <td>BUILT</td>\n",
       "      <td>8</td>\n",
       "      <td>CONN</td>\n",
       "      <td>LEON</td>\n",
       "      <td>HAGESETHC</td>\n",
       "      <td>2014-02-26</td>\n",
       "      <td>O</td>\n",
       "      <td>...</td>\n",
       "      <td>DOP2008TFC</td>\n",
       "      <td>5</td>\n",
       "      <td>O</td>\n",
       "      <td>None</td>\n",
       "      <td>0.091403</td>\n",
       "      <td>N</td>\n",
       "      <td>2</td>\n",
       "      <td>RD</td>\n",
       "      <td>0</td>\n",
       "      <td>LINESTRING (623548.0931320738 165478.253356780...</td>\n",
       "    </tr>\n",
       "    <tr>\n",
       "      <th>3</th>\n",
       "      <td>None</td>\n",
       "      <td>SR - 61</td>\n",
       "      <td>None</td>\n",
       "      <td>BUILT</td>\n",
       "      <td>8</td>\n",
       "      <td>CONN</td>\n",
       "      <td>LEON</td>\n",
       "      <td>HAGESETHC</td>\n",
       "      <td>2014-02-26</td>\n",
       "      <td>O</td>\n",
       "      <td>...</td>\n",
       "      <td>DOP2008TFC</td>\n",
       "      <td>5</td>\n",
       "      <td>O</td>\n",
       "      <td>None</td>\n",
       "      <td>0.090467</td>\n",
       "      <td>N</td>\n",
       "      <td>2</td>\n",
       "      <td>RD</td>\n",
       "      <td>0</td>\n",
       "      <td>LINESTRING (623167.8413320724 164328.903156780...</td>\n",
       "    </tr>\n",
       "    <tr>\n",
       "      <th>4</th>\n",
       "      <td>None</td>\n",
       "      <td>SR - 61</td>\n",
       "      <td>None</td>\n",
       "      <td>BUILT</td>\n",
       "      <td>8</td>\n",
       "      <td>CONN</td>\n",
       "      <td>LEON</td>\n",
       "      <td>HAGESETHC</td>\n",
       "      <td>2014-02-26</td>\n",
       "      <td>O</td>\n",
       "      <td>...</td>\n",
       "      <td>DOP2008TFC</td>\n",
       "      <td>5</td>\n",
       "      <td>O</td>\n",
       "      <td>None</td>\n",
       "      <td>0.089032</td>\n",
       "      <td>N</td>\n",
       "      <td>2</td>\n",
       "      <td>RD</td>\n",
       "      <td>0</td>\n",
       "      <td>LINESTRING (623546.4237320729 165409.808056779...</td>\n",
       "    </tr>\n",
       "  </tbody>\n",
       "</table>\n",
       "<p>5 rows × 46 columns</p>\n",
       "</div>"
      ],
      "text/plain": [
       "  ACCESS_ ALIAS_NAME BUILT_DATE BUILT_STAT  CLASS CONN_TYPE COUNTY    EDIT_BY  \\\n",
       "0    None    SR - 61       None      BUILT      8      CONN   LEON  HAGESETHC   \n",
       "1    None    SR - 61       None      BUILT      8      INTE   LEON  HAGESETHC   \n",
       "2    None    SR - 61       None      BUILT      8      CONN   LEON  HAGESETHC   \n",
       "3    None    SR - 61       None      BUILT      8      CONN   LEON  HAGESETHC   \n",
       "4    None    SR - 61       None      BUILT      8      CONN   LEON  HAGESETHC   \n",
       "\n",
       "    EDIT_DATE EDIT_TYPE                        ...                          \\\n",
       "0  2014-02-26         O                        ...                           \n",
       "1  2014-02-26         O                        ...                           \n",
       "2  2014-02-26         O                        ...                           \n",
       "3  2014-02-26         O                        ...                           \n",
       "4  2014-02-26         O                        ...                           \n",
       "\n",
       "        SOURCE SPEED  STATUS  SUFFIX   TF_COST THEOR_RANG  TRAVEL_FLA  TYPE  \\\n",
       "0   DOP2008TFC     5       O    None  0.090264          N           2    RD   \n",
       "1  FDOR2007TFC    25       O    None  0.017222          N           2    RD   \n",
       "2   DOP2008TFC     5       O    None  0.091403          N           2    RD   \n",
       "3   DOP2008TFC     5       O    None  0.090467          N           2    RD   \n",
       "4   DOP2008TFC     5       O    None  0.089032          N           2    RD   \n",
       "\n",
       "   T_ELEV                                           geometry  \n",
       "0       0  LINESTRING (623093.510832076 164171.1041567803...  \n",
       "1       0  LINESTRING (622515.1922320754 163214.635256776...  \n",
       "2       0  LINESTRING (623548.0931320738 165478.253356780...  \n",
       "3       0  LINESTRING (623167.8413320724 164328.903156780...  \n",
       "4       0  LINESTRING (623546.4237320729 165409.808056779...  \n",
       "\n",
       "[5 rows x 46 columns]"
      ]
     },
     "execution_count": 3,
     "metadata": {},
     "output_type": "execute_result"
    }
   ],
   "source": [
    "# Waverly  Hills\n",
    "streets = gpd.read_file(path+'Waverly_Trim/Waverly.shp')\n",
    "streets.to_crs(epsg=2779, inplace=True) # NAD83(HARN) / Florida North\n",
    "streets.to_file(path+'waverly/waverly.shp')\n",
    "streets[:5]"
   ]
  },
  {
   "cell_type": "markdown",
   "metadata": {},
   "source": [
    "### Plot Waverly Hills"
   ]
  },
  {
   "cell_type": "code",
   "execution_count": 4,
   "metadata": {
    "collapsed": false
   },
   "outputs": [
    {
     "data": {
      "text/plain": [
       "<matplotlib.axes._subplots.AxesSubplot at 0x11603f2d0>"
      ]
     },
     "execution_count": 4,
     "metadata": {},
     "output_type": "execute_result"
    },
    {
     "data": {
      "image/png": "[encoded data removed]",
      "text/plain": [
       "<matplotlib.figure.Figure at 0x103860c50>"
      ]
     },
     "metadata": {},
     "output_type": "display_data"
    }
   ],
   "source": [
    "streets.plot()"
   ]
  },
  {
   "cell_type": "markdown",
   "metadata": {},
   "source": [
    "### Instantiate Network and read in `WAVERLY.shp`"
   ]
  },
  {
   "cell_type": "code",
   "execution_count": 5,
   "metadata": {
    "collapsed": true
   },
   "outputs": [],
   "source": [
    "ntw = ps.Network(path+'waverly/waverly.shp')\n",
    "shp_waverly = ps.open(path+'waverly/waverly.shp')"
   ]
  },
  {
   "cell_type": "markdown",
   "metadata": {},
   "source": [
    "### Create Buffer of 200 meters"
   ]
  },
  {
   "cell_type": "code",
   "execution_count": 6,
   "metadata": {
    "collapsed": false
   },
   "outputs": [
    {
     "data": {
      "text/plain": [
       "0    POLYGON ((623124.0407875385 164212.5102460865,...\n",
       "1    POLYGON ((622546.5762248621 163255.235891574, ...\n",
       "2    POLYGON ((623559.7869314271 165528.3883790929,...\n",
       "3    POLYGON ((623200.6855916528 164368.5069398382,...\n",
       "4    POLYGON ((623558.3641320666 165459.8080567809,...\n",
       "dtype: object"
      ]
     },
     "execution_count": 6,
     "metadata": {},
     "output_type": "execute_result"
    }
   ],
   "source": [
    "intial_buffer = streets.buffer(50)  #Buffer\n",
    "intial_buffer[:5]"
   ]
  },
  {
   "cell_type": "markdown",
   "metadata": {},
   "source": [
    "### Plot Buffers of Individual Streets"
   ]
  },
  {
   "cell_type": "code",
   "execution_count": 7,
   "metadata": {
    "collapsed": false
   },
   "outputs": [
    {
     "data": {
      "text/plain": [
       "<matplotlib.axes._subplots.AxesSubplot at 0x1169d64d0>"
      ]
     },
     "execution_count": 7,
     "metadata": {},
     "output_type": "execute_result"
    },
    {
     "data": {
      "image/png": "[encoded data removed]",
      "text/plain": [
       "<matplotlib.figure.Figure at 0x1168b8650>"
      ]
     },
     "metadata": {},
     "output_type": "display_data"
    }
   ],
   "source": [
    "intial_buffer.plot()"
   ]
  },
  {
   "cell_type": "markdown",
   "metadata": {},
   "source": [
    "### Create a Unary Union of the individual street buffers"
   ]
  },
  {
   "cell_type": "code",
   "execution_count": 8,
   "metadata": {
    "collapsed": false
   },
   "outputs": [
    {
     "data": {
      "text/html": [
       "<div>\n",
       "<table border=\"1\" class=\"dataframe\">\n",
       "  <thead>\n",
       "    <tr style=\"text-align: right;\">\n",
       "      <th></th>\n",
       "      <th>geometry</th>\n",
       "    </tr>\n",
       "  </thead>\n",
       "  <tbody>\n",
       "    <tr>\n",
       "      <th>0</th>\n",
       "      <td>POLYGON ((622537.3422082652 163117.6387178254,...</td>\n",
       "    </tr>\n",
       "  </tbody>\n",
       "</table>\n",
       "</div>"
      ],
      "text/plain": [
       "                                            geometry\n",
       "0  POLYGON ((622537.3422082652 163117.6387178254,..."
      ]
     },
     "execution_count": 8,
     "metadata": {},
     "output_type": "execute_result"
    }
   ],
   "source": [
    "union_buffer = intial_buffer.unary_union  #Buffer Union\n",
    "union_buffer = gpd.GeoSeries(union_buffer)\n",
    "union_buffer.crs = streets.crs\n",
    "final_buffer = gpd.GeoDataFrame(union_buffer, crs=streets.crs)\n",
    "final_buffer.columns = ['geometry']\n",
    "final_buffer"
   ]
  },
  {
   "cell_type": "markdown",
   "metadata": {},
   "source": [
    "### Plot the unary union buffer"
   ]
  },
  {
   "cell_type": "code",
   "execution_count": 9,
   "metadata": {
    "collapsed": false
   },
   "outputs": [
    {
     "data": {
      "text/plain": [
       "<matplotlib.axes._subplots.AxesSubplot at 0x1176c2b10>"
      ]
     },
     "execution_count": 9,
     "metadata": {},
     "output_type": "execute_result"
    },
    {
     "data": {
      "image/png": "[encoded data removed]",
      "text/plain": [
       "<matplotlib.figure.Figure at 0x1176b5e50>"
      ]
     },
     "metadata": {},
     "output_type": "display_data"
    }
   ],
   "source": [
    "final_buffer.plot()"
   ]
  },
  {
   "cell_type": "markdown",
   "metadata": {},
   "source": [
    "### Create 1000 random points within the bounds of `WAVERLY.shp`"
   ]
  },
  {
   "cell_type": "code",
   "execution_count": 10,
   "metadata": {
    "collapsed": false
   },
   "outputs": [
    {
     "data": {
      "text/html": [
       "<div>\n",
       "<table border=\"1\" class=\"dataframe\">\n",
       "  <thead>\n",
       "    <tr style=\"text-align: right;\">\n",
       "      <th></th>\n",
       "      <th>geometry</th>\n",
       "    </tr>\n",
       "  </thead>\n",
       "  <tbody>\n",
       "    <tr>\n",
       "      <th>0</th>\n",
       "      <td>POINT (623388.4926405598 166286.4795721661)</td>\n",
       "    </tr>\n",
       "    <tr>\n",
       "      <th>1</th>\n",
       "      <td>POINT (622672.4092589854 162943.9994787998)</td>\n",
       "    </tr>\n",
       "    <tr>\n",
       "      <th>2</th>\n",
       "      <td>POINT (621913.3153830337 164903.3379650218)</td>\n",
       "    </tr>\n",
       "    <tr>\n",
       "      <th>3</th>\n",
       "      <td>POINT (621612.0857702466 164217.1288344094)</td>\n",
       "    </tr>\n",
       "    <tr>\n",
       "      <th>4</th>\n",
       "      <td>POINT (623414.8982675247 163698.4405537729)</td>\n",
       "    </tr>\n",
       "  </tbody>\n",
       "</table>\n",
       "</div>"
      ],
      "text/plain": [
       "                                      geometry\n",
       "0  POINT (623388.4926405598 166286.4795721661)\n",
       "1  POINT (622672.4092589854 162943.9994787998)\n",
       "2  POINT (621913.3153830337 164903.3379650218)\n",
       "3  POINT (621612.0857702466 164217.1288344094)\n",
       "4  POINT (623414.8982675247 163698.4405537729)"
      ]
     },
     "execution_count": 10,
     "metadata": {},
     "output_type": "execute_result"
    }
   ],
   "source": [
    "np.random.seed(352)\n",
    "x = np.random.uniform(shp_waverly.bbox[0], shp_waverly.bbox[2], 100)\n",
    "np.random.seed(850)\n",
    "y = np.random.uniform(shp_waverly.bbox[1], shp_waverly.bbox[3], 100)  \n",
    "coords = zip(x,y)\n",
    "coords = [shapely.geometry.Point(i) for i in coords]\n",
    "sim_points = gpd.GeoDataFrame(coords)\n",
    "sim_points.crs = streets.crs\n",
    "sim_points.columns = ['geometry']\n",
    "sim_points[:5]"
   ]
  },
  {
   "cell_type": "markdown",
   "metadata": {},
   "source": [
    "### Plot the 1000 random "
   ]
  },
  {
   "cell_type": "code",
   "execution_count": 11,
   "metadata": {
    "collapsed": false
   },
   "outputs": [
    {
     "data": {
      "text/plain": [
       "<matplotlib.axes._subplots.AxesSubplot at 0x11781bad0>"
      ]
     },
     "execution_count": 11,
     "metadata": {},
     "output_type": "execute_result"
    },
    {
     "data": {
      "image/png": "[encoded data removed]",
      "text/plain": [
       "<matplotlib.figure.Figure at 0x11790ced0>"
      ]
     },
     "metadata": {},
     "output_type": "display_data"
    }
   ],
   "source": [
    "sim_points.plot()"
   ]
  },
  {
   "cell_type": "markdown",
   "metadata": {},
   "source": [
    "### Create `GeoPandas` DF of the random points within the Unary Buffer"
   ]
  },
  {
   "cell_type": "code",
   "execution_count": 12,
   "metadata": {
    "collapsed": false
   },
   "outputs": [
    {
     "data": {
      "text/html": [
       "<div>\n",
       "<table border=\"1\" class=\"dataframe\">\n",
       "  <thead>\n",
       "    <tr style=\"text-align: right;\">\n",
       "      <th></th>\n",
       "      <th>geometry</th>\n",
       "    </tr>\n",
       "  </thead>\n",
       "  <tbody>\n",
       "    <tr>\n",
       "      <th>0</th>\n",
       "      <td>()</td>\n",
       "    </tr>\n",
       "    <tr>\n",
       "      <th>1</th>\n",
       "      <td>()</td>\n",
       "    </tr>\n",
       "    <tr>\n",
       "      <th>2</th>\n",
       "      <td>POINT (621913.3153830337 164903.3379650218)</td>\n",
       "    </tr>\n",
       "    <tr>\n",
       "      <th>3</th>\n",
       "      <td>POINT (621612.0857702466 164217.1288344094)</td>\n",
       "    </tr>\n",
       "    <tr>\n",
       "      <th>4</th>\n",
       "      <td>()</td>\n",
       "    </tr>\n",
       "  </tbody>\n",
       "</table>\n",
       "</div>"
      ],
      "text/plain": [
       "                                      geometry\n",
       "0                                           ()\n",
       "1                                           ()\n",
       "2  POINT (621913.3153830337 164903.3379650218)\n",
       "3  POINT (621612.0857702466 164217.1288344094)\n",
       "4                                           ()"
      ]
     },
     "execution_count": 12,
     "metadata": {},
     "output_type": "execute_result"
    }
   ],
   "source": [
    "intersection = [final_buffer['geometry'].intersection(p) for p in sim_points['geometry']]\n",
    "intersection = gpd.GeoDataFrame(intersection, crs=streets.crs)\n",
    "intersection.columns = ['geometry']\n",
    "intersection[:5]"
   ]
  },
  {
   "cell_type": "markdown",
   "metadata": {},
   "source": [
    "### Plot the points within the Unary Buffer"
   ]
  },
  {
   "cell_type": "code",
   "execution_count": 13,
   "metadata": {
    "collapsed": false
   },
   "outputs": [
    {
     "data": {
      "text/plain": [
       "<matplotlib.axes._subplots.AxesSubplot at 0x117fbd110>"
      ]
     },
     "execution_count": 13,
     "metadata": {},
     "output_type": "execute_result"
    },
    {
     "data": {
      "image/png": "[encoded data removed]",
      "text/plain": [
       "<matplotlib.figure.Figure at 0x1168b8950>"
      ]
     },
     "metadata": {},
     "output_type": "display_data"
    }
   ],
   "source": [
    "intersection.plot()"
   ]
  },
  {
   "cell_type": "markdown",
   "metadata": {},
   "source": [
    "### Add only intersecting records to a list "
   ]
  },
  {
   "cell_type": "code",
   "execution_count": 14,
   "metadata": {
    "collapsed": false
   },
   "outputs": [
    {
     "data": {
      "text/plain": [
       "[<shapely.geometry.point.Point at 0x117fbd610>,\n",
       " <shapely.geometry.point.Point at 0x117fbd710>,\n",
       " <shapely.geometry.point.Point at 0x117fbd910>,\n",
       " <shapely.geometry.point.Point at 0x117fbdb10>,\n",
       " <shapely.geometry.point.Point at 0x117fbdc10>]"
      ]
     },
     "execution_count": 14,
     "metadata": {},
     "output_type": "execute_result"
    }
   ],
   "source": [
    "# Add records that are points within the buffer\n",
    "point_in = []\n",
    "for p in intersection['geometry']:\n",
    "    if type(p) == shapely.geometry.point.Point:\n",
    "        point_in.append(p)\n",
    "point_in[:5]"
   ]
  },
  {
   "cell_type": "markdown",
   "metadata": {},
   "source": [
    "### Create Simulated Supply and Demand"
   ]
  },
  {
   "cell_type": "code",
   "execution_count": 15,
   "metadata": {
    "collapsed": false
   },
   "outputs": [],
   "source": [
    "# Supply\n",
    "supply_vector = np.random.randint(50, 200, 5)\n",
    "supply_vector = supply_vector.reshape(len(supply_vector),1)\n",
    "# Demand\n",
    "demand_vector = np.random.randint(10, 100, 10)\n",
    "demand_vector = demand_vector.reshape(len(demand_vector),1)"
   ]
  },
  {
   "cell_type": "markdown",
   "metadata": {},
   "source": [
    "### Create shapefiles of unsnapped locations:  Keep first 5 for Supply facilities and last 10 for Demand facilities"
   ]
  },
  {
   "cell_type": "code",
   "execution_count": 16,
   "metadata": {
    "collapsed": false
   },
   "outputs": [],
   "source": [
    "# SUPPLY\n",
    "supply_gdf = gpd.GeoDataFrame(point_in[:5], crs=streets.crs)\n",
    "supply_gdf.columns = ['geometry']\n",
    "\n",
    "# DEMAND\n",
    "demand_gdf = gpd.GeoDataFrame(point_in[-10:], crs=streets.crs)\n",
    "demand_gdf.columns = ['geometry']\n",
    "\n",
    "########################################################    \n",
    "# Write out .shps    \n",
    "supply_gdf.to_file(path+'supply/supply.shp')\n",
    "demand_gdf.to_file(path+'demand/demand.shp')"
   ]
  },
  {
   "cell_type": "markdown",
   "metadata": {},
   "source": [
    "### Create dummy list to prepare for LatLon conversion"
   ]
  },
  {
   "cell_type": "code",
   "execution_count": 17,
   "metadata": {
    "collapsed": false
   },
   "outputs": [],
   "source": [
    "supply_locations = []\n",
    "for i in supply_gdf['geometry']:\n",
    "    supply_locations.append(i)\n",
    "supply_locations = pd.DataFrame(supply_locations)    \n",
    "supply_locations.columns = ['geometry']    \n",
    "supply_locations = gpd.GeoDataFrame(supply_locations, crs=streets.crs)\n",
    "\n",
    "demand_locations = []\n",
    "for i in demand_gdf['geometry']:\n",
    "    demand_locations.append(i)\n",
    "demand_locations = pd.DataFrame(demand_locations)    \n",
    "demand_locations.columns = ['geometry']    \n",
    "demand_locations = gpd.GeoDataFrame(demand_locations, crs=streets.crs)"
   ]
  },
  {
   "cell_type": "markdown",
   "metadata": {},
   "source": [
    "### Covert location to LatLon attributes"
   ]
  },
  {
   "cell_type": "code",
   "execution_count": 18,
   "metadata": {
    "collapsed": false
   },
   "outputs": [],
   "source": [
    "# Convert store SUPPLY locations to LatLon\n",
    "supply_locations.to_crs(epsg=32616, inplace=True) # UTM 16N\n",
    "supply_locations_LonLat_Dict = OrderedDict()\n",
    "supply_locations_LonLat_List = []\n",
    "\n",
    "for i,j in supply_locations['geometry'].iteritems():\n",
    "    supply_locations_LonLat_Dict[supply_locations.index[i]] = utm.to_latlon(j.xy[0][-1], j.xy[1][-1], 16, 'N')  \n",
    "    supply_locations_LonLat_List.append((utm.to_latlon(j.xy[0][-1], j.xy[1][-1], 16, 'N')))\n",
    "\n",
    "supply_locations_Lat_List = []\n",
    "supply_locations_Lon_List = []\n",
    "    \n",
    "for i in supply_locations_LonLat_List:\n",
    "    supply_locations_Lat_List.append(i[0])\n",
    "for i in supply_locations_LonLat_List:\n",
    "    supply_locations_Lon_List.append(i[1])\n",
    "# Add Columns of data\n",
    "supply_gdf['ID'] = ['s'+str(num) for num in range(10001, len(supply_vector)+10001)]\n",
    "supply_gdf['Units Supplied'] = supply_vector\n",
    "supply_gdf['Lat'] = supply_locations_Lat_List\n",
    "supply_gdf['Lon'] = supply_locations_Lon_List\n",
    "\n",
    "# Convert store DEMAND locations to LatLon\n",
    "demand_locations.to_crs(epsg=32616, inplace=True) # UTM 16N\n",
    "demand_locations_LonLat_Dict = OrderedDict()\n",
    "demand_locations_LonLat_List = []\n",
    "\n",
    "for i,j in demand_locations['geometry'].iteritems():\n",
    "    demand_locations_LonLat_Dict[demand_locations.index[i]] = utm.to_latlon(j.xy[0][-1], j.xy[1][-1], 16, 'N')  \n",
    "    demand_locations_LonLat_List.append((utm.to_latlon(j.xy[0][-1], j.xy[1][-1], 16, 'N')))\n",
    "\n",
    "demand_locations_Lat_List = []\n",
    "demand_locations_Lon_List = []\n",
    "    \n",
    "for i in demand_locations_LonLat_List:\n",
    "    demand_locations_Lat_List.append(i[0])\n",
    "for i in demand_locations_LonLat_List:\n",
    "    demand_locations_Lon_List.append(i[1])\n",
    "# Add Columns of data\n",
    "\n",
    "demand_gdf['ID'] = ['d'+str(num) for num in range(10001, len(demand_vector)+10001)]\n",
    "demand_gdf['Units Demanded'] = demand_vector\n",
    "demand_gdf['Lat'] = demand_locations_Lat_List\n",
    "demand_gdf['Lon'] = demand_locations_Lon_List\n",
    "\n",
    "#############################################################\n",
    "# Write out .shps    \n",
    "supply_gdf.to_file(path+'supply/supply.shp')\n",
    "demand_gdf.to_file(path+'demand/demand.shp')"
   ]
  },
  {
   "cell_type": "code",
   "execution_count": 19,
   "metadata": {
    "collapsed": false
   },
   "outputs": [
    {
     "data": {
      "text/html": [
       "<div>\n",
       "<table border=\"1\" class=\"dataframe\">\n",
       "  <thead>\n",
       "    <tr style=\"text-align: right;\">\n",
       "      <th></th>\n",
       "      <th>geometry</th>\n",
       "      <th>ID</th>\n",
       "      <th>Units Supplied</th>\n",
       "      <th>Lat</th>\n",
       "      <th>Lon</th>\n",
       "    </tr>\n",
       "  </thead>\n",
       "  <tbody>\n",
       "    <tr>\n",
       "      <th>0</th>\n",
       "      <td>POINT (621913.3153830337 164903.3379650218)</td>\n",
       "      <td>s10001</td>\n",
       "      <td>71</td>\n",
       "      <td>30.487267</td>\n",
       "      <td>-84.271757</td>\n",
       "    </tr>\n",
       "    <tr>\n",
       "      <th>1</th>\n",
       "      <td>POINT (621612.0857702466 164217.1288344094)</td>\n",
       "      <td>s10002</td>\n",
       "      <td>156</td>\n",
       "      <td>30.481083</td>\n",
       "      <td>-84.274908</td>\n",
       "    </tr>\n",
       "  </tbody>\n",
       "</table>\n",
       "</div>"
      ],
      "text/plain": [
       "                                      geometry      ID  Units Supplied  \\\n",
       "0  POINT (621913.3153830337 164903.3379650218)  s10001              71   \n",
       "1  POINT (621612.0857702466 164217.1288344094)  s10002             156   \n",
       "\n",
       "         Lat        Lon  \n",
       "0  30.487267 -84.271757  \n",
       "1  30.481083 -84.274908  "
      ]
     },
     "execution_count": 19,
     "metadata": {},
     "output_type": "execute_result"
    }
   ],
   "source": [
    "supply_gdf[:2]"
   ]
  },
  {
   "cell_type": "code",
   "execution_count": 20,
   "metadata": {
    "collapsed": false
   },
   "outputs": [
    {
     "data": {
      "text/html": [
       "<div>\n",
       "<table border=\"1\" class=\"dataframe\">\n",
       "  <thead>\n",
       "    <tr style=\"text-align: right;\">\n",
       "      <th></th>\n",
       "      <th>geometry</th>\n",
       "      <th>ID</th>\n",
       "      <th>Units Demanded</th>\n",
       "      <th>Lat</th>\n",
       "      <th>Lon</th>\n",
       "    </tr>\n",
       "  </thead>\n",
       "  <tbody>\n",
       "    <tr>\n",
       "      <th>0</th>\n",
       "      <td>POINT (622615.3983850051 163718.8709875496)</td>\n",
       "      <td>d10001</td>\n",
       "      <td>69</td>\n",
       "      <td>30.476570</td>\n",
       "      <td>-84.264470</td>\n",
       "    </tr>\n",
       "    <tr>\n",
       "      <th>1</th>\n",
       "      <td>POINT (623098.0732985543 164124.0125775343)</td>\n",
       "      <td>d10002</td>\n",
       "      <td>15</td>\n",
       "      <td>30.480215</td>\n",
       "      <td>-84.259434</td>\n",
       "    </tr>\n",
       "  </tbody>\n",
       "</table>\n",
       "</div>"
      ],
      "text/plain": [
       "                                      geometry      ID  Units Demanded  \\\n",
       "0  POINT (622615.3983850051 163718.8709875496)  d10001              69   \n",
       "1  POINT (623098.0732985543 164124.0125775343)  d10002              15   \n",
       "\n",
       "         Lat        Lon  \n",
       "0  30.476570 -84.264470  \n",
       "1  30.480215 -84.259434  "
      ]
     },
     "execution_count": 20,
     "metadata": {},
     "output_type": "execute_result"
    }
   ],
   "source": [
    "demand_gdf[:2]"
   ]
  },
  {
   "cell_type": "markdown",
   "metadata": {},
   "source": [
    "### Instaniate non-solution graphs to be drawn"
   ]
  },
  {
   "cell_type": "code",
   "execution_count": 21,
   "metadata": {
    "collapsed": true
   },
   "outputs": [],
   "source": [
    "# Roads and Nodes\n",
    "graph_roads = nx.Graph()\n",
    "# Clients\n",
    "graph_supply = nx.Graph()\n",
    "# Snapped Supply\n",
    "snapped_supply = nx.Graph()\n",
    "# Demand\n",
    "graph_demand = nx.Graph()\n",
    "# Snapped Demand\n",
    "snapped_demand = nx.Graph()"
   ]
  },
  {
   "cell_type": "markdown",
   "metadata": {},
   "source": [
    "### Instantiate and fill Supply and Demand point dictionaries"
   ]
  },
  {
   "cell_type": "code",
   "execution_count": 22,
   "metadata": {
    "collapsed": true
   },
   "outputs": [],
   "source": [
    "points_supply = {} \n",
    "points_demand = {}\n",
    "\n",
    "sply = ps.open(path+'supply/supply.shp')\n",
    "for idx, coords in enumerate(sply):\n",
    "    graph_supply.add_node(idx)\n",
    "    points_supply[idx] = coords\n",
    "    graph_supply.node[idx] = coords\n",
    "    \n",
    "dmnd = ps.open(path+'demand/demand.shp')\n",
    "for idx, coords in enumerate(dmnd):\n",
    "    graph_demand.add_node(idx)\n",
    "    points_demand[idx] = coords\n",
    "    graph_demand.node[idx] = coords"
   ]
  },
  {
   "cell_type": "markdown",
   "metadata": {},
   "source": [
    "### Snap Observations to NTW"
   ]
  },
  {
   "cell_type": "code",
   "execution_count": 23,
   "metadata": {
    "collapsed": false
   },
   "outputs": [],
   "source": [
    "# Snap\n",
    "ntw.snapobservations(path+'supply/supply.shp', \n",
    "                     'simulated_supply', attribute=True)\n",
    "ntw.snapobservations(path+'demand/demand.shp', \n",
    "                     'simulated_demand', attribute=True)"
   ]
  },
  {
   "cell_type": "markdown",
   "metadata": {
    "collapsed": true
   },
   "source": [
    "### Draw NTW, snapped coords, & random coords"
   ]
  },
  {
   "cell_type": "code",
   "execution_count": 24,
   "metadata": {
    "collapsed": false
   },
   "outputs": [
    {
     "data": {
      "image/png": "[encoded data removed]",
      "text/plain": [
       "<matplotlib.figure.Figure at 0x1183cd650>"
      ]
     },
     "metadata": {},
     "output_type": "display_data"
    }
   ],
   "source": [
    "# Instantiate Figure\n",
    "mpl.rcParams['figure.figsize']=5,8\n",
    "\n",
    "# Draw Graph of Roads\n",
    "for e in ntw.edges:\n",
    "    graph_roads.add_edge(*e)\n",
    "nx.draw(graph_roads, ntw.node_coords, node_size=5, alpha=0.25, edge_color='r', width=2)\n",
    "\n",
    "# Draw Graph of Snapped Supply Nodes\n",
    "for p,coords in ntw.pointpatterns['simulated_supply'].snapped_coordinates.iteritems():\n",
    "    snapped_supply.add_node(p)\n",
    "    snapped_supply.node[p] = coords\n",
    "nx.draw(snapped_supply, ntw.pointpatterns['simulated_supply'].snapped_coordinates, \n",
    "        node_size=100, alpha=1, node_color='b')\n",
    "\n",
    "# Draw Graph of Snapped Demand Nodes\n",
    "for p,coords in ntw.pointpatterns['simulated_demand'].snapped_coordinates.iteritems():\n",
    "    snapped_demand.add_node(p)\n",
    "    snapped_demand.node[p] = coords\n",
    "nx.draw(snapped_demand, ntw.pointpatterns['simulated_demand'].snapped_coordinates, \n",
    "        node_size=100, alpha=1, node_color='c')\n",
    "\n",
    "# Draw Graph of Random Supply Points\n",
    "nx.draw(graph_supply, points_supply, \n",
    "    node_size=20, alpha=1, node_color='y')\n",
    "\n",
    "# Draw Graph of Random Demand Points\n",
    "nx.draw(graph_demand, points_demand, \n",
    "    node_size=20, alpha=1, node_color='w')\n",
    "\n",
    "# Legend (Ordered Dictionary)\n",
    "legend = OrderedDict()\n",
    "legend['Network Nodes']=graph_roads\n",
    "legend['Roads']=graph_roads\n",
    "legend['Snapped Supply']=snapped_supply\n",
    "legend['Snapped Demand']=snapped_demand\n",
    "legend['Supply Nodes']=graph_supply\n",
    "legend['Demand Nodes']=graph_demand\n",
    "\n",
    "plt.legend(legend, loc='best')\n",
    "# Title\n",
    "plt.title('Waverly Hills\\n Tallahassee, Florida', family='Times New Roman', \n",
    "      size=40, color='k', backgroundcolor='w', weight='bold')\n",
    "# Must be changed for different spatial resolutions, etc.\n",
    "plt.arrow(624000, 164050, 0.0, 500, width=50, head_width=125, \n",
    "          head_length=75, fc='k', ec='k',alpha=0.75,)\n",
    "plt.annotate('N', xy=(623900, 164700), fontstyle='italic', fontsize='xx-large',\n",
    "            fontweight='heavy', alpha=0.75)\n",
    "plt.annotate('<| ~ .25 miles |>', xy=(623200, 163600), \n",
    "             fontstyle='italic', fontsize='large', alpha=0.95)\n",
    "\n",
    "plt.show()"
   ]
  },
  {
   "cell_type": "markdown",
   "metadata": {
    "collapsed": true
   },
   "source": [
    "### Create distance matrix"
   ]
  },
  {
   "cell_type": "code",
   "execution_count": 25,
   "metadata": {
    "collapsed": false,
    "scrolled": true
   },
   "outputs": [
    {
     "name": "stdout",
     "output_type": "stream",
     "text": [
      "10.459 seconds\n",
      "Supply to Demand Matrix Shape -->  (5, 10)\n"
     ]
    }
   ],
   "source": [
    "t1 = time.time()\n",
    "cost_matrix = ntw.allneighbordistances(sourcepattern=ntw.pointpatterns['simulated_supply'],\n",
    "                                       destpattern=ntw.pointpatterns['simulated_demand'])\n",
    "cost_matrix = cost_matrix * 0.000621371 # to miles\n",
    "seconds = round(time.time()-t1, 4)\n",
    "print seconds, 'seconds'\n",
    "print 'Supply to Demand Matrix Shape --> ', cost_matrix.shape"
   ]
  },
  {
   "cell_type": "markdown",
   "metadata": {
    "collapsed": true
   },
   "source": [
    "### Optimize"
   ]
  },
  {
   "cell_type": "code",
   "execution_count": 26,
   "metadata": {
    "collapsed": false,
    "scrolled": true
   },
   "outputs": [
    {
     "name": "stdout",
     "output_type": "stream",
     "text": [
      "Changed value of parameter MIPFocus to 2\n",
      "   Prev: 0  Min: 0  Max: 3  Default: 0\n",
      "Optimize a model with 15 rows, 50 columns and 100 nonzeros\n",
      "Coefficient statistics:\n",
      "  Matrix range    [1e+00, 1e+00]\n",
      "  Objective range [6e-02, 2e+01]\n",
      "  Bounds range    [0e+00, 0e+00]\n",
      "  RHS range       [1e+01, 2e+02]\n",
      "Presolve time: 0.00s\n",
      "Presolved: 15 rows, 50 columns, 100 nonzeros\n",
      "\n",
      "Iteration    Objective       Primal Inf.    Dual Inf.      Time\n",
      "       0    0.0000000e+00   3.930000e+02   0.000000e+00      0s\n",
      "      16    9.4285245e-01   0.000000e+00   0.000000e+00      0s\n",
      "\n",
      "Solved in 16 iterations and 0.01 seconds\n",
      "Optimal objective  9.428524486e-01\n",
      "******************************************************************************\n",
      "| From SUPPLY Facility to DEMAND Facility x(Si)_(Dj) shipping # of units  \n",
      "| ↓↓↓↓↓↓↓↓↓↓↓↓↓↓↓↓↓↓↓↓↓↓↓↓↓↓↓↓↓↓↓↓↓↓↓↓↓↓↓↓↓↓↓↓↓↓↓↓↓↓↓↓↓↓↓↓↓↓↓↓↓↓↓↓↓↓↓↓↓↓↓↓\n",
      "|\n",
      "|  Supply Facility # 10001 is shipping 23 units to Demand Facility # 10004\n",
      "|  Supply Facility # 10001 is shipping 48 units to Demand Facility # 10006\n",
      "|  Supply Facility # 10002 is shipping 9 units to Demand Facility # 10004\n",
      "|  Supply Facility # 10003 is shipping 45 units to Demand Facility # 10003\n",
      "|  Supply Facility # 10004 is shipping 52 units to Demand Facility # 10005\n",
      "|  Supply Facility # 10004 is shipping 14 units to Demand Facility # 10007\n",
      "|  Supply Facility # 10004 is shipping 64 units to Demand Facility # 10008\n",
      "|  Supply Facility # 10004 is shipping 39 units to Demand Facility # 10009\n",
      "|  Supply Facility # 10005 is shipping 69 units to Demand Facility # 10001\n",
      "|  Supply Facility # 10005 is shipping 15 units to Demand Facility # 10002\n",
      "|  Supply Facility # 10005 is shipping 15 units to Demand Facility # 10010\n",
      "******************************************************************************\n",
      "    | Objective Value (miles)--------------  0.9429\n",
      "    | Supply Facilities -------------------  5\n",
      "    | Total Supply Units ------------------  786\n",
      "    | Demand Facilites --------------------  10\n",
      "    | Total Demand Units ------------------  393\n",
      "    | Matrix Dimensions -------------------  (5, 10)\n",
      "    | Total Potential Combinations --------  50\n",
      "    | Actual Combinations  ----------------  11\n",
      "    | Real Time to Optimize (sec.) --------  0.0149\n",
      "******************************************************************************\n",
      "  --  The Transportation Simplex with Gurobi --\n",
      "\n",
      "James Gaboardi, 2016\n",
      "******************************************************************************\n"
     ]
    }
   ],
   "source": [
    "def gurobi_transportation_simplex(cij, si, dj):\n",
    "    global selected\n",
    "    \n",
    "    t1 = time.time()\n",
    "    \n",
    "    # Indices & Variable Names\n",
    "    supply_nodes_len = len(cij)\n",
    "    demand_nodes_len = len(cij[0])\n",
    "    supply_nodes_range = range(supply_nodes_len)\n",
    "    demand_nodes_range = range(demand_nodes_len)\n",
    "    all_nodes_len = supply_nodes_len * demand_nodes_len\n",
    "    all_nodes_range = range(all_nodes_len)\n",
    "    \n",
    "    m = gbp.Model()                   # Instantiate Modeel\n",
    "    gbp.setParam('MIPFocus', 2)       # Set MIP Focus to 2 for optimality\n",
    "    \n",
    "    descision_variable = []           # Serialzed Decision Variable --> s10001_d10001\n",
    "    for origin in supply_nodes_range:\n",
    "        descision_variable.append([])\n",
    "        for destination in demand_nodes_range:\n",
    "            descision_variable[origin].append(m.addVar(vtype=gbp.GRB.CONTINUOUS, \n",
    "                                            obj=cij[origin][destination], \n",
    "                                            name='s'+str(origin+10001)+'_d'+str(destination+10001)))\n",
    "    # Update Model Variables\n",
    "    m.update()       \n",
    "    \n",
    "    #  Set Objective Function\n",
    "    m.setObjective(gbp.quicksum(cij[origin][destination]*descision_variable[origin][destination] \n",
    "                            for origin in supply_nodes_range for dest in demand_nodes_range), \n",
    "                            gbp.GRB.MINIMIZE)\n",
    "                            \n",
    "    # Add Supply Constraints\n",
    "    for origin in supply_nodes_range:\n",
    "        m.addConstr(gbp.quicksum(descision_variable[origin][destination] \n",
    "                            for destination in demand_nodes_range) - si[origin] <= 0)\n",
    "    # Add Demand Constraints\n",
    "    for origin in demand_nodes_range:\n",
    "        m.addConstr(gbp.quicksum(descision_variable[destination][origin] \n",
    "                            for destination in supply_nodes_range) - dj[origin] >= 0)\n",
    "    \n",
    "    #  Optimize and Print Results\n",
    "    m.optimize()\n",
    "    t2 = time.time()-t1\n",
    "    \n",
    "    print '******************************************************************************'\n",
    "    print '| From SUPPLY Facility to DEMAND Facility x(Si)_(Dj) shipping # of units  '\n",
    "    print '| ↓↓↓↓↓↓↓↓↓↓↓↓↓↓↓↓↓↓↓↓↓↓↓↓↓↓↓↓↓↓↓↓↓↓↓↓↓↓↓↓↓↓↓↓↓↓↓↓↓↓↓↓↓↓↓↓↓↓↓↓↓↓↓↓↓↓↓↓↓↓↓↓'\n",
    "    print '|'\n",
    "    selected = OrderedDict()   # Selected Locations\n",
    "    closed = []                # Closed Locations\n",
    "    for v in m.getVars():      # for each decision variable in the models\n",
    "        var = '%s' % v.VarName\n",
    "        if v.x > 0:\n",
    "            units = '%i' % v.x\n",
    "            selected[var] = units\n",
    "            print '|  Supply Facility #', var[1:6], 'is shipping', units, \\\n",
    "                                                'units to Demand Facility #', var[-5:]\n",
    "        else:\n",
    "            closed.append([var[1:6], var[-5:]])\n",
    "    \n",
    "    print '******************************************************************************'\n",
    "    print '    | Objective Value (miles)-------------- ', round(m.objVal, 4)\n",
    "    print '    | Supply Facilities ------------------- ', len(si)\n",
    "    print '    | Total Supply Units ------------------ ', si.sum()\n",
    "    print '    | Demand Facilites -------------------- ', len(dj)\n",
    "    print '    | Total Demand Units ------------------ ', dj.sum()\n",
    "    print '    | Matrix Dimensions ------------------- ', cij.shape\n",
    "    print '    | Total Potential Combinations -------- ', len(si)*len(dj)\n",
    "    print '    | Actual Combinations  ---------------- ', len(selected)\n",
    "    print '    | Real Time to Optimize (sec.) -------- ', round(t2, 4)\n",
    "    print '******************************************************************************'\n",
    "    print '  --  The Transportation Simplex with Gurobi --'\n",
    "    m.write('path.lp')\n",
    "    \n",
    "#########################################################################################\n",
    "# Data can be read-in or simulated\n",
    "# Call Function   \n",
    "gurobi_transportation_simplex(cij=cost_matrix,   # Cost Matrix\n",
    "                              si=supply_vector,  # Vector of Units Supplied\n",
    "                              dj=demand_vector)  # Vector of Units Demanded\n",
    "\n",
    "print '\\nJames Gaboardi, 2016'\n",
    "print '******************************************************************************'"
   ]
  },
  {
   "cell_type": "markdown",
   "metadata": {},
   "source": [
    "### Create Results DataFrame"
   ]
  },
  {
   "cell_type": "code",
   "execution_count": 27,
   "metadata": {
    "collapsed": false
   },
   "outputs": [
    {
     "name": "stdout",
     "output_type": "stream",
     "text": [
      " From SUPPLY Facility to DEMAND Facility x(Si)_(Dj) shipping # of units  \n"
     ]
    },
    {
     "data": {
      "text/html": [
       "<div>\n",
       "<table border=\"1\" class=\"dataframe\">\n",
       "  <thead>\n",
       "    <tr style=\"text-align: right;\">\n",
       "      <th></th>\n",
       "      <th>d10001</th>\n",
       "      <th>d10002</th>\n",
       "      <th>d10003</th>\n",
       "      <th>d10004</th>\n",
       "      <th>d10005</th>\n",
       "      <th>d10006</th>\n",
       "      <th>d10007</th>\n",
       "      <th>d10008</th>\n",
       "      <th>d10009</th>\n",
       "      <th>d10010</th>\n",
       "    </tr>\n",
       "  </thead>\n",
       "  <tbody>\n",
       "    <tr>\n",
       "      <th>s10001</th>\n",
       "      <td>0</td>\n",
       "      <td>0</td>\n",
       "      <td>0</td>\n",
       "      <td>23</td>\n",
       "      <td>0</td>\n",
       "      <td>48</td>\n",
       "      <td>0</td>\n",
       "      <td>0</td>\n",
       "      <td>0</td>\n",
       "      <td>0</td>\n",
       "    </tr>\n",
       "    <tr>\n",
       "      <th>s10002</th>\n",
       "      <td>0</td>\n",
       "      <td>0</td>\n",
       "      <td>0</td>\n",
       "      <td>9</td>\n",
       "      <td>0</td>\n",
       "      <td>0</td>\n",
       "      <td>0</td>\n",
       "      <td>0</td>\n",
       "      <td>0</td>\n",
       "      <td>0</td>\n",
       "    </tr>\n",
       "    <tr>\n",
       "      <th>s10003</th>\n",
       "      <td>0</td>\n",
       "      <td>0</td>\n",
       "      <td>45</td>\n",
       "      <td>0</td>\n",
       "      <td>0</td>\n",
       "      <td>0</td>\n",
       "      <td>0</td>\n",
       "      <td>0</td>\n",
       "      <td>0</td>\n",
       "      <td>0</td>\n",
       "    </tr>\n",
       "    <tr>\n",
       "      <th>s10004</th>\n",
       "      <td>0</td>\n",
       "      <td>0</td>\n",
       "      <td>0</td>\n",
       "      <td>0</td>\n",
       "      <td>52</td>\n",
       "      <td>0</td>\n",
       "      <td>14</td>\n",
       "      <td>64</td>\n",
       "      <td>39</td>\n",
       "      <td>0</td>\n",
       "    </tr>\n",
       "    <tr>\n",
       "      <th>s10005</th>\n",
       "      <td>69</td>\n",
       "      <td>15</td>\n",
       "      <td>0</td>\n",
       "      <td>0</td>\n",
       "      <td>0</td>\n",
       "      <td>0</td>\n",
       "      <td>0</td>\n",
       "      <td>0</td>\n",
       "      <td>0</td>\n",
       "      <td>15</td>\n",
       "    </tr>\n",
       "  </tbody>\n",
       "</table>\n",
       "</div>"
      ],
      "text/plain": [
       "       d10001 d10002 d10003 d10004 d10005 d10006 d10007 d10008 d10009 d10010\n",
       "s10001      0      0      0     23      0     48      0      0      0      0\n",
       "s10002      0      0      0      9      0      0      0      0      0      0\n",
       "s10003      0      0     45      0      0      0      0      0      0      0\n",
       "s10004      0      0      0      0     52      0     14     64     39      0\n",
       "s10005     69     15      0      0      0      0      0      0      0     15"
      ]
     },
     "execution_count": 27,
     "metadata": {},
     "output_type": "execute_result"
    }
   ],
   "source": [
    "print ' From SUPPLY Facility to DEMAND Facility x(Si)_(Dj) shipping # of units  '\n",
    "results = pd.DataFrame(index=['s'+str(origin+10001) for origin in range(len(supply_vector))],\n",
    "                         columns=['d'+str(destination+10001) for destination in range(len(demand_vector))])\n",
    "for i,j in selected.iteritems():\n",
    "    if i[:6] in results.index and i[-6:] in results.columns:\n",
    "        results[i[-6:]][i[:6]] = j\n",
    "results = results.fillna(0)\n",
    "results\n",
    "\n",
    "# qgrid.show_grid(results)"
   ]
  },
  {
   "cell_type": "markdown",
   "metadata": {},
   "source": [
    "### Plot in Google Maps -- Hover over a Location for Information"
   ]
  },
  {
   "cell_type": "code",
   "execution_count": 28,
   "metadata": {
    "collapsed": false
   },
   "outputs": [
    {
     "data": {
      "text/html": [
       "\n",
       "\n",
       "    <div class=\"plotdiv\" id=\"f4f36f3a-7972-4de8-922f-1e1a5319adbe\"></div>\n",
       "<script type=\"text/javascript\">\n",
       "  \n",
       "  (function(global) {\n",
       "    function now() {\n",
       "      return new Date();\n",
       "    }\n",
       "  \n",
       "    if (typeof (window._bokeh_onload_callbacks) === \"undefined\") {\n",
       "      window._bokeh_onload_callbacks = [];\n",
       "    }\n",
       "  \n",
       "    function run_callbacks() {\n",
       "      window._bokeh_onload_callbacks.forEach(function(callback) { callback() });\n",
       "      delete window._bokeh_onload_callbacks\n",
       "      console.info(\"Bokeh: all callbacks have finished\");\n",
       "    }\n",
       "  \n",
       "    function load_libs(js_urls, callback) {\n",
       "      window._bokeh_onload_callbacks.push(callback);\n",
       "      if (window._bokeh_is_loading > 0) {\n",
       "        console.log(\"Bokeh: BokehJS is being loaded, scheduling callback at\", now());\n",
       "        return null;\n",
       "      }\n",
       "      if (js_urls == null || js_urls.length === 0) {\n",
       "        run_callbacks();\n",
       "        return null;\n",
       "      }\n",
       "      console.log(\"Bokeh: BokehJS not loaded, scheduling load and callback at\", now());\n",
       "      window._bokeh_is_loading = js_urls.length;\n",
       "      for (var i = 0; i < js_urls.length; i++) {\n",
       "        var url = js_urls[i];\n",
       "        var s = document.createElement('script');\n",
       "        s.src = url;\n",
       "        s.async = false;\n",
       "        s.onreadystatechange = s.onload = function() {\n",
       "          window._bokeh_is_loading--;\n",
       "          if (window._bokeh_is_loading === 0) {\n",
       "            console.log(\"Bokeh: all BokehJS libraries loaded\");\n",
       "            run_callbacks()\n",
       "          }\n",
       "        };\n",
       "        s.onerror = function() {\n",
       "          console.warn(\"failed to load library \" + url);\n",
       "        };\n",
       "        console.log(\"Bokeh: injecting script tag for BokehJS library: \", url);\n",
       "        document.getElementsByTagName(\"head\")[0].appendChild(s);\n",
       "      }\n",
       "    };var element = document.getElementById(\"f4f36f3a-7972-4de8-922f-1e1a5319adbe\");\n",
       "    if (element == null) {\n",
       "      console.log(\"Bokeh: ERROR: autoload.js configured with elementid 'f4f36f3a-7972-4de8-922f-1e1a5319adbe' but no matching script tag was found. \")\n",
       "      return false;\n",
       "    }\n",
       "  \n",
       "    var js_urls = [];\n",
       "  \n",
       "    var inline_js = [\n",
       "      function(Bokeh) {\n",
       "        Bokeh.$(function() {\n",
       "            var docs_json = {\"e5aa2e37-5482-483b-bb28-ceddae245688\":{\"roots\":{\"references\":[{\"attributes\":{\"plot\":{\"id\":\"5db13794-5555-41b8-931b-cce4f8b1c2ac\",\"type\":\"GMapPlot\"}},\"id\":\"f483a702-8e7f-4ab9-80e3-1a73d2419cca\",\"type\":\"WheelZoomTool\"},{\"attributes\":{\"bottom_units\":\"screen\",\"fill_alpha\":{\"value\":0.5},\"fill_color\":{\"value\":\"lightgrey\"},\"left_units\":\"screen\",\"level\":\"overlay\",\"line_alpha\":{\"value\":1.0},\"line_color\":{\"value\":\"black\"},\"line_dash\":[4,4],\"line_width\":{\"value\":2},\"plot\":null,\"render_mode\":\"css\",\"right_units\":\"screen\",\"top_units\":\"screen\"},\"id\":\"23b9ca4a-21b6-46e3-9eaa-aba8f36e285b\",\"type\":\"BoxAnnotation\"},{\"attributes\":{\"fill_alpha\":{\"value\":0.6},\"fill_color\":{\"value\":\"red\"},\"line_color\":{\"value\":null},\"size\":{\"units\":\"screen\",\"value\":10},\"x\":{\"field\":\"lon\"},\"y\":{\"field\":\"lat\"}},\"id\":\"de19cea5-17c0-49ca-a610-18370e854396\",\"type\":\"Circle\"},{\"attributes\":{\"callback\":null,\"column_names\":[\"lat\",\"lon\",\"units_total\",\"desc\"],\"data\":{\"desc\":[\"s10001\",\"s10002\",\"s10003\",\"s10004\",\"s10005\"],\"lat\":[30.487267368119866,30.481082674068073,30.473479285120522,30.475974602820532,30.479901236008246],\"lon\":[-84.27175682694356,-84.274908488811,-84.27240143982323,-84.26192289154623,-84.27631022155973],\"units_total\":[71,156,197,191,171]}},\"id\":\"e663a7cf-a042-4805-86d3-634795058902\",\"type\":\"ColumnDataSource\"},{\"attributes\":{},\"id\":\"7e101f4d-47f8-42c2-acf8-dc82c713fb13\",\"type\":\"ToolEvents\"},{\"attributes\":{\"data_source\":{\"id\":\"e663a7cf-a042-4805-86d3-634795058902\",\"type\":\"ColumnDataSource\"},\"glyph\":{\"id\":\"4b3ee486-4bf8-4920-956d-9541ba6bf3d3\",\"type\":\"Circle\"},\"hover_glyph\":null,\"nonselection_glyph\":null,\"selection_glyph\":null},\"id\":\"e04f62dd-3370-4727-8650-28caeb785599\",\"type\":\"GlyphRenderer\"},{\"attributes\":{\"plot\":{\"id\":\"5db13794-5555-41b8-931b-cce4f8b1c2ac\",\"type\":\"GMapPlot\"}},\"id\":\"91abbac3-c445-4894-a34e-cf10fe657b54\",\"type\":\"PanTool\"},{\"attributes\":{\"callback\":null,\"plot\":{\"id\":\"5db13794-5555-41b8-931b-cce4f8b1c2ac\",\"type\":\"GMapPlot\"},\"tooltips\":\"\\n        <div>\\n            <div>\\n                \\n            </div>\\n            <div>\\n                <span style=\\\"font-size: 30px; font-weight: bold;\\\">Site @desc</span> \\n            </div>\\n            <div>\\n                <span> \\b </span>\\n            </div>\\n            <div>\\n                <span style=\\\"font-size: 17px; font-weight: bold;\\\">Units Available to Ship or Receive</span> \\n            <div>\\n                <span style=\\\"font-size: 14px; font-weight: bold; color: #00b300;\\\">@units_total</span>\\n            </div>\\n        </div>\"},\"id\":\"a8d90903-12c7-4dca-86b5-91c2f1569df9\",\"type\":\"HoverTool\"},{\"attributes\":{\"map_options\":{\"lat\":30.4855,\"lng\":-84.265,\"map_type\":\"hybrid\",\"zoom\":14},\"renderers\":[{\"id\":\"e04f62dd-3370-4727-8650-28caeb785599\",\"type\":\"GlyphRenderer\"},{\"id\":\"a45d7556-cd93-481b-9fbc-c89c728394a9\",\"type\":\"GlyphRenderer\"},{\"id\":\"23b9ca4a-21b6-46e3-9eaa-aba8f36e285b\",\"type\":\"BoxAnnotation\"}],\"title\":\"Waverly Hills\",\"tool_events\":{\"id\":\"7e101f4d-47f8-42c2-acf8-dc82c713fb13\",\"type\":\"ToolEvents\"},\"tools\":[{\"id\":\"91abbac3-c445-4894-a34e-cf10fe657b54\",\"type\":\"PanTool\"},{\"id\":\"f483a702-8e7f-4ab9-80e3-1a73d2419cca\",\"type\":\"WheelZoomTool\"},{\"id\":\"ecf095bd-93d5-4b3f-a44f-a82c103464d2\",\"type\":\"BoxSelectTool\"},{\"id\":\"575851c4-64ad-4cce-b0ad-e99b857bb426\",\"type\":\"ResetTool\"},{\"id\":\"a8d90903-12c7-4dca-86b5-91c2f1569df9\",\"type\":\"HoverTool\"}],\"x_range\":{\"id\":\"f36dfd49-053f-437d-9fab-84140acfe395\",\"type\":\"DataRange1d\"},\"y_range\":{\"id\":\"e76aa3ed-0247-4f32-9f7f-93993633c38a\",\"type\":\"DataRange1d\"}},\"id\":\"5db13794-5555-41b8-931b-cce4f8b1c2ac\",\"type\":\"GMapPlot\"},{\"attributes\":{\"callback\":null,\"overlay\":{\"id\":\"23b9ca4a-21b6-46e3-9eaa-aba8f36e285b\",\"type\":\"BoxAnnotation\"},\"plot\":{\"id\":\"5db13794-5555-41b8-931b-cce4f8b1c2ac\",\"type\":\"GMapPlot\"}},\"id\":\"ecf095bd-93d5-4b3f-a44f-a82c103464d2\",\"type\":\"BoxSelectTool\"},{\"attributes\":{\"fill_alpha\":{\"value\":0.6},\"fill_color\":{\"value\":\"yellow\"},\"line_color\":{\"value\":null},\"size\":{\"units\":\"screen\",\"value\":10},\"x\":{\"field\":\"lon\"},\"y\":{\"field\":\"lat\"}},\"id\":\"4b3ee486-4bf8-4920-956d-9541ba6bf3d3\",\"type\":\"Circle\"},{\"attributes\":{\"plot\":{\"id\":\"5db13794-5555-41b8-931b-cce4f8b1c2ac\",\"type\":\"GMapPlot\"}},\"id\":\"575851c4-64ad-4cce-b0ad-e99b857bb426\",\"type\":\"ResetTool\"},{\"attributes\":{\"callback\":null},\"id\":\"f36dfd49-053f-437d-9fab-84140acfe395\",\"type\":\"DataRange1d\"},{\"attributes\":{\"callback\":null},\"id\":\"e76aa3ed-0247-4f32-9f7f-93993633c38a\",\"type\":\"DataRange1d\"},{\"attributes\":{\"callback\":null,\"column_names\":[\"lat\",\"lon\",\"units_total\",\"desc\"],\"data\":{\"desc\":[\"d10001\",\"d10002\",\"d10003\",\"d10004\",\"d10005\",\"d10006\",\"d10007\",\"d10008\",\"d10009\",\"d10010\"],\"lat\":[30.47656974733325,30.480215328103213,30.476636191176883,30.48243686862804,30.47456281033994,30.47475715413689,30.47392784850988,30.486203059392658,30.47827287098185,30.479771007348784],\"lon\":[-84.2644695468354,-84.25943373785584,-84.26588426286837,-84.2591177219485,-84.27516306714655,-84.26994592335646,-84.27251528722545,-84.26249465703292,-84.27093456443798,-84.27620194570477],\"units_total\":[69,15,45,32,52,48,14,64,39,15]}},\"id\":\"e9f34242-6bb7-4975-865c-a97f26aa8341\",\"type\":\"ColumnDataSource\"},{\"attributes\":{\"data_source\":{\"id\":\"e9f34242-6bb7-4975-865c-a97f26aa8341\",\"type\":\"ColumnDataSource\"},\"glyph\":{\"id\":\"de19cea5-17c0-49ca-a610-18370e854396\",\"type\":\"Circle\"},\"hover_glyph\":null,\"nonselection_glyph\":null,\"selection_glyph\":null},\"id\":\"a45d7556-cd93-481b-9fbc-c89c728394a9\",\"type\":\"GlyphRenderer\"}],\"root_ids\":[\"5db13794-5555-41b8-931b-cce4f8b1c2ac\"]},\"title\":\"Bokeh Application\",\"version\":\"0.11.1\"}};\n",
       "            var render_items = [{\"docid\":\"e5aa2e37-5482-483b-bb28-ceddae245688\",\"elementid\":\"f4f36f3a-7972-4de8-922f-1e1a5319adbe\",\"modelid\":\"5db13794-5555-41b8-931b-cce4f8b1c2ac\",\"notebook_comms_target\":\"6a12836f-74cf-43a8-855e-50fe1e33c48c\"}];\n",
       "            \n",
       "            Bokeh.embed.embed_items(docs_json, render_items);\n",
       "        });\n",
       "      },\n",
       "      function(Bokeh) {\n",
       "      }\n",
       "    ];\n",
       "  \n",
       "    function run_inline_js() {\n",
       "      for (var i = 0; i < inline_js.length; i++) {\n",
       "        inline_js[i](window.Bokeh);\n",
       "      }\n",
       "    }\n",
       "  \n",
       "    if (window._bokeh_is_loading === 0) {\n",
       "      console.log(\"Bokeh: BokehJS loaded, going straight to plotting\");\n",
       "      run_inline_js();\n",
       "    } else {\n",
       "      load_libs(js_urls, function() {\n",
       "        console.log(\"Bokeh: BokehJS plotting callback run at\", now());\n",
       "        run_inline_js();\n",
       "      });\n",
       "    }\n",
       "  }(this));\n",
       "</script>"
      ]
     },
     "metadata": {},
     "output_type": "display_data"
    },
    {
     "data": {
      "text/html": [
       "<p><code>&lt;Bokeh Notebook handle for <strong>In[28]</strong>&gt;</code></p>"
      ],
      "text/plain": [
       "<bokeh.io._CommsHandle at 0x1185b0f10>"
      ]
     },
     "execution_count": 28,
     "metadata": {},
     "output_type": "execute_result"
    }
   ],
   "source": [
    "map_options = GMapOptions(lat=30.4855, lng=-84.265, map_type=\"hybrid\", zoom=14)\n",
    "\n",
    "plot = GMapPlot(\n",
    "    x_range=DataRange1d(), y_range=DataRange1d(), map_options=map_options, title=\"Waverly Hills\")\n",
    "\n",
    "hover = HoverTool(tooltips=\"\"\"\n",
    "        <div>\n",
    "            <div>\n",
    "                \n",
    "            </div>\n",
    "            <div>\n",
    "                <span style=\"font-size: 30px; font-weight: bold;\">Site @desc</span> \n",
    "            </div>\n",
    "            <div>\n",
    "                <span> \\b </span>\n",
    "            </div>\n",
    "            <div>\n",
    "                <span style=\"font-size: 17px; font-weight: bold;\">Units Available to Ship or Receive</span> \n",
    "            <div>\n",
    "                <span style=\"font-size: 14px; font-weight: bold; color: #00b300;\">@units_total</span>\n",
    "            </div>\n",
    "        </div>\"\"\")\n",
    "\n",
    "supply_source = ColumnDataSource(\n",
    "        data=dict(\n",
    "        lat=supply_gdf['Lat'],\n",
    "        lon=supply_gdf['Lon'],\n",
    "        desc=supply_gdf['ID'],\n",
    "        units_total=supply_gdf['Units Supplied']))\n",
    "\n",
    "demand_source = ColumnDataSource(\n",
    "        data=dict(\n",
    "        lat=demand_gdf['Lat'],\n",
    "        lon=demand_gdf['Lon'],\n",
    "        desc=demand_gdf['ID'],\n",
    "        units_total=demand_gdf['Units Demanded']))\n",
    "\n",
    "supply_facilties = Circle(x=\"lon\", y=\"lat\", \n",
    "                   size=10, fill_color=\"yellow\", \n",
    "                   fill_alpha=0.6, line_color=None)\n",
    "\n",
    "demand_facilties = Circle(x=\"lon\", y=\"lat\", \n",
    "                   size=10, fill_color=\"red\", \n",
    "                   fill_alpha=0.6, line_color=None)\n",
    "\n",
    "plot.add_glyph(supply_source, supply_facilties)\n",
    "\n",
    "plot.add_glyph(demand_source, demand_facilties)\n",
    "\n",
    "plot.add_tools(PanTool(), WheelZoomTool(), BoxSelectTool(), ResetTool(), hover)\n",
    "output_file(\"gmap_plot.html\")\n",
    "show(plot)"
   ]
  },
  {
   "cell_type": "markdown",
   "metadata": {
    "collapsed": true
   },
   "source": [
    "----------"
   ]
  }
 ],
 "metadata": {
  "kernelspec": {
   "display_name": "Python 2",
   "language": "python",
   "name": "python2"
  },
  "language_info": {
   "codemirror_mode": {
    "name": "ipython",
    "version": 2
   },
   "file_extension": ".py",
   "mimetype": "text/x-python",
   "name": "python",
   "nbconvert_exporter": "python",
   "pygments_lexer": "ipython2",
   "version": "2.7.10"
  }
 },
 "nbformat": 4,
 "nbformat_minor": 0
}
