{
 "cells": [
  {
   "cell_type": "markdown",
   "metadata": {},
   "source": [
    "<p><font size='6' face='Times New Roman'><b><u>Generic Transportation Problem Example</u></b></font></p>\n",
    "\n",
    "<p><font size='5' face='Times New Roman'><b><i>James Gaboardi, 2015</i></b></font></p>"
   ]
  },
  {
   "cell_type": "markdown",
   "metadata": {},
   "source": [
    "--------------------"
   ]
  },
  {
   "cell_type": "markdown",
   "metadata": {},
   "source": [
    "<p><font size='6' face='Times New Roman'><u>GNU LESSER GENERAL PUBLIC LICENSE</u></font></p>\n",
    "<p><font size='3' face='Times New Roman'><b>Version 3, 29 June 2007.</b></font></p>\n",
    "<p><font size='3' face='Times New Roman'><b>Copyright (C) 2007 Free Software Foundation, Inc. <http://fsf.org/>.</b></font></p>\n",
    "<p><font size='3' face='Times New Roman'><b>Everyone is permitted to copy and distribute verbatim copies of this license document, but changing it is not allowed.</b></font></p>"
   ]
  },
  {
   "cell_type": "markdown",
   "metadata": {},
   "source": [
    "-----------------"
   ]
  },
  {
   "cell_type": "markdown",
   "metadata": {},
   "source": [
    "<font size='7' face='Times New Roman'><b>0. <u>Imports</u></b></font>"
   ]
  },
  {
   "cell_type": "code",
   "execution_count": null,
   "metadata": {
    "collapsed": false
   },
   "outputs": [],
   "source": [
    "import pysal as ps\n",
    "import numpy as np\n",
    "import networkx as nx\n",
    "import shapefile as shp\n",
    "import gurobipy as gbp\n",
    "import time\n",
    "from collections import OrderedDict\n",
    "import IPython.display as IPd\n",
    "%pylab inline"
   ]
  },
  {
   "cell_type": "markdown",
   "metadata": {},
   "source": [
    "<font size='7' face='Times New Roman'><b>1. <u>Data preparation and creation</u></b></font>"
   ]
  },
  {
   "cell_type": "markdown",
   "metadata": {},
   "source": [
    "<font size='5' face='Times New Roman'><b>1.1 <u>Instantiate a network</u></b></font>"
   ]
  },
  {
   "cell_type": "code",
   "execution_count": null,
   "metadata": {
    "collapsed": false
   },
   "outputs": [],
   "source": [
    "ntw = ps.Network('Waverly/Waverly.shp')\n",
    "print 'PySAL.Network\\n'\n",
    "print dir(ntw)"
   ]
  },
  {
   "cell_type": "markdown",
   "metadata": {},
   "source": [
    "<font size='5' face='Times New Roman'><b>1.2 <u>Instantiate all graphs to be drawn</u></b></font>"
   ]
  },
  {
   "cell_type": "code",
   "execution_count": null,
   "metadata": {
    "collapsed": true
   },
   "outputs": [],
   "source": [
    "# Roads and Nodes\n",
    "g = nx.Graph()\n",
    "# Graph of Roads and Nodes\n",
    "g1 = nx.MultiGraph()\n",
    "# Clients\n",
    "GRAPH_supply = nx.Graph()\n",
    "# Snapped Supply\n",
    "g_supply = nx.Graph()\n",
    "# Demand\n",
    "GRAPH_demand = nx.Graph()\n",
    "# Snapped Demand\n",
    "g_demand = nx.Graph()"
   ]
  },
  {
   "cell_type": "markdown",
   "metadata": {
    "collapsed": true
   },
   "source": [
    "<font size='5' face='Times New Roman'><b>1.3 <u>Create Bounding Box from 'Waverly.shp'</u></b></font>"
   ]
  },
  {
   "cell_type": "code",
   "execution_count": null,
   "metadata": {
    "collapsed": false
   },
   "outputs": [],
   "source": [
    "shp_W = ps.open('Waverly/Waverly.shp')\n",
    "shp_W.bbox"
   ]
  },
  {
   "cell_type": "markdown",
   "metadata": {
    "collapsed": true
   },
   "source": [
    "<font size='5' face='Times New Roman'><b>1.4 <u>Create numpy arrays of random floats within a  bounding box</u></b></font>"
   ]
  },
  {
   "cell_type": "code",
   "execution_count": null,
   "metadata": {
    "collapsed": true
   },
   "outputs": [],
   "source": [
    "lat_supply = np.random.uniform(shp_W.bbox[0], shp_W.bbox[2], 100)\n",
    "lon_supply = np.random.uniform(shp_W.bbox[1], shp_W.bbox[3], 100)\n",
    "lat_demand = np.random.uniform(shp_W.bbox[0], shp_W.bbox[2], 100)\n",
    "lon_demand = np.random.uniform(shp_W.bbox[1], shp_W.bbox[3], 100)"
   ]
  },
  {
   "cell_type": "markdown",
   "metadata": {
    "collapsed": true
   },
   "source": [
    "<font size='5' face='Times New Roman'><b>1.5 <u>Zip the latitude and longitude lists together</u></b></font>"
   ]
  },
  {
   "cell_type": "code",
   "execution_count": null,
   "metadata": {
    "collapsed": true
   },
   "outputs": [],
   "source": [
    "rand_coords_supply = map(list, zip(lat_supply, lon_supply))\n",
    "rand_coords_demand = map(list, zip(lat_demand, lon_demand))"
   ]
  },
  {
   "cell_type": "markdown",
   "metadata": {
    "collapsed": true
   },
   "source": [
    "<font size='5' face='Times New Roman'><b>1.6 <u>Create Empty Random Points Dictionaries</u></b></font>"
   ]
  },
  {
   "cell_type": "code",
   "execution_count": null,
   "metadata": {
    "collapsed": true
   },
   "outputs": [],
   "source": [
    "points_supply = {}\n",
    "points_demand = {}"
   ]
  },
  {
   "cell_type": "markdown",
   "metadata": {
    "collapsed": true
   },
   "source": [
    "<font size='5' face='Times New Roman'><b>1.7 <u>Fill dictionaries of random roints</u></b></font>"
   ]
  },
  {
   "cell_type": "code",
   "execution_count": null,
   "metadata": {
    "collapsed": true
   },
   "outputs": [],
   "source": [
    "# SUPPLY\n",
    "for idx, coords in enumerate(rand_coords_supply):\n",
    "    GRAPH_supply.add_node(idx)\n",
    "    points_supply[idx] = coords\n",
    "    GRAPH_supply.node[idx] = coords\n",
    "# DEMAND   \n",
    "for idx, coords in enumerate(rand_coords_demand):\n",
    "    GRAPH_demand.add_node(idx)\n",
    "    points_demand[idx] = coords\n",
    "    GRAPH_demand.node[idx] = coords"
   ]
  },
  {
   "cell_type": "markdown",
   "metadata": {
    "collapsed": true
   },
   "source": [
    "<font size='5' face='Times New Roman'><b>1.8 <u>Draw graphs of roads, simplified network, and random supply & demand nodes</u></b></font>"
   ]
  },
  {
   "cell_type": "code",
   "execution_count": null,
   "metadata": {
    "collapsed": false
   },
   "outputs": [],
   "source": [
    "#Instantiate Figure\n",
    "figsize(10,10)\n",
    "# Draw Graph of Actual Nodes and Roads\n",
    "for e in ntw.edges:\n",
    "    g.add_edge(*e)\n",
    "nx.draw(g, ntw.node_coords, node_size=5, alpha=0.25, edge_color='r', width=2)\n",
    "# Draw only unique edges in graph\n",
    "for e in ntw.graphedges:\n",
    "    g1.add_edge(*e)\n",
    "    # highlights cases where start and end node are the same\n",
    "    if e[0]==e[1]:\n",
    "        g1.add_node(e[0])\n",
    "for node_id in g1.node:\n",
    "    g1.node[node_id] = ntw.node_coords[node_id]\n",
    "nx.draw(g1, ntw.node_coords, node_size=10, alpha=0.5)\n",
    "# Draw Graph of Random Supply Points\n",
    "nx.draw(GRAPH_supply, points_supply, \n",
    "    node_size=75, alpha=1, node_color='b')\n",
    "# Draw Graph of Random Demand Points\n",
    "nx.draw(GRAPH_demand, points_demand, \n",
    "    node_size=100, alpha=1, node_color='c')\n",
    "# Legend (Ordered Dictionary)\n",
    "LEGEND = OrderedDict()\n",
    "LEGEND['Network Nodes']=g\n",
    "LEGEND['Roads']=g\n",
    "LEGEND['Graph Vertices']=g1\n",
    "LEGEND['Graph Edges']=g1\n",
    "LEGEND['Supply Nodes']=GRAPH_supply\n",
    "LEGEND['Demand Nodes']=GRAPH_demand\n",
    "legend(LEGEND, loc='best')\n",
    "# Title\n",
    "title('Waverly Hills\\n Tallahassee, Florida', family='Times New Roman', \n",
    "      size=40, color='k', backgroundcolor='w', weight='bold')"
   ]
  },
  {
   "cell_type": "markdown",
   "metadata": {
    "collapsed": true
   },
   "source": [
    "<font size='5' face='Times New Roman'><b>1.9 <u>Create Supply and Demand</u></b></font>"
   ]
  },
  {
   "cell_type": "code",
   "execution_count": null,
   "metadata": {
    "collapsed": false
   },
   "outputs": [],
   "source": [
    "#Supply\n",
    "Si = np.random.randint(50, 200, 100)\n",
    "Si = Si.reshape(100,1)\n",
    "SiSum = np.sum(Si)\n",
    "# Demand\n",
    "Dj = np.sort(Si, axis=None)\n",
    "DjSum = np.sum(Dj)"
   ]
  },
  {
   "cell_type": "markdown",
   "metadata": {
    "collapsed": true
   },
   "source": [
    "<font size='5' face='Times New Roman'><b>1.10 <u>Instantiate supply and demand shapefiles</u></b></font>"
   ]
  },
  {
   "cell_type": "code",
   "execution_count": null,
   "metadata": {
    "collapsed": false
   },
   "outputs": [],
   "source": [
    "# Supply\n",
    "supply = shp.Writer(shp.POINT)\n",
    "# Add Random Points\n",
    "for i,j in rand_coords_supply:\n",
    "    supply.point(i,j)\n",
    "# Add Fields\n",
    "supply.field('Si_ID')\n",
    "supply.field('LAT')\n",
    "supply.field('LON')\n",
    "supply.field('Supply')\n",
    "counter = 0\n",
    "for i in range(len(rand_coords_supply)):\n",
    "    counter = counter + 1\n",
    "    supply.record('x'+ str(counter)+'_--', lat_supply[i], lon_supply[i], Si[i])\n",
    "# Save Shapefile    \n",
    "supply.save('path.../RandomPoints_SUPPLY')\n",
    "\n",
    "#Demand\n",
    "demand = shp.Writer(shp.POINT)\n",
    "# Add Random Points\n",
    "for i,j in rand_coords_demand:\n",
    "    demand.point(i,j)\n",
    "# Add Fields\n",
    "demand.field('Dj_ID_x')\n",
    "demand.field('LAT')\n",
    "demand.field('LON')\n",
    "demand.field('Demand')\n",
    "counter = 0\n",
    "for i in range(len(rand_coords_demand)):\n",
    "    counter = counter + 1\n",
    "    demand.record('x--_'+ str(counter), lat_demand[i], lon_demand[i], Dj[i])\n",
    "# Save Shapefile    \n",
    "demand.save('path.../RandomPoints_DEMAND')"
   ]
  },
  {
   "cell_type": "markdown",
   "metadata": {
    "collapsed": true
   },
   "source": [
    "<font size='5' face='Times New Roman'><b>1.11 <u>Snap Observations to NTW</u></b></font>"
   ]
  },
  {
   "cell_type": "code",
   "execution_count": null,
   "metadata": {
    "collapsed": false
   },
   "outputs": [],
   "source": [
    "t1 = time.time()\n",
    "ntw.snapobservations('shapefiles/RandomPoints_SUPPLY.shp', \n",
    "                     'Rand_Points_SUPPLY', attribute=True)\n",
    "ntw.snapobservations('shapefiles/RandomPoints_DEMAND.shp', \n",
    "                     'Rand_Points_DEMAND', attribute=True)\n",
    "print round(time.time()-t1, 4), 'seconds'"
   ]
  },
  {
   "cell_type": "markdown",
   "metadata": {
    "collapsed": true
   },
   "source": [
    "<font size='5' face='Times New Roman'><b>1.12 <u>Draw NTW, snapped coords, & random coords</u></b></font>"
   ]
  },
  {
   "cell_type": "code",
   "execution_count": null,
   "metadata": {
    "collapsed": false
   },
   "outputs": [],
   "source": [
    "# Instantiate Figure\n",
    "figsize(10,10)\n",
    "# Draw Graph of Roads\n",
    "for e in ntw.edges:\n",
    "    g.add_edge(*e)\n",
    "nx.draw(g, ntw.node_coords, node_size=5, alpha=0.25, edge_color='r', width=2)\n",
    "# Draw Graph of Snapped Supply Nodes\n",
    "g_supply = nx.Graph()\n",
    "for p,coords in ntw.pointpatterns['Rand_Points_SUPPLY'].snapped_coordinates.iteritems():\n",
    "    g_supply.add_node(p)\n",
    "    g_supply.node[p] = coords\n",
    "nx.draw(g_supply, ntw.pointpatterns['Rand_Points_SUPPLY'].snapped_coordinates, \n",
    "        node_size=100, alpha=1, node_color='b')\n",
    "# Draw Graph of Snapped Demand Nodes\n",
    "g_service = nx.Graph()\n",
    "for p,coords in ntw.pointpatterns['Rand_Points_DEMAND'].snapped_coordinates.iteritems():\n",
    "    g_demand.add_node(p)\n",
    "    g_demand.node[p] = coords\n",
    "nx.draw(g_demand, ntw.pointpatterns['Rand_Points_DEMAND'].snapped_coordinates, \n",
    "        node_size=100, alpha=1, node_color='c')\n",
    "# Draw Graph of Random Supply Points\n",
    "nx.draw(GRAPH_supply, points_supply, \n",
    "    node_size=20, alpha=1, node_color='y')\n",
    "# Draw Graph of Random Demand Points\n",
    "nx.draw(GRAPH_demand, points_demand, \n",
    "    node_size=20, alpha=1, node_color='w')\n",
    "\n",
    "# Legend (Ordered Dictionary)\n",
    "LEGEND = OrderedDict()\n",
    "LEGEND['Network Nodes']=g\n",
    "LEGEND['Roads']=g\n",
    "LEGEND['Snapped Supply']=g_supply\n",
    "LEGEND['Snapped Demand']=g_demand\n",
    "LEGEND['Supply Nodes']=GRAPH_supply\n",
    "LEGEND['Demand Nodes']=GRAPH_demand\n",
    "\n",
    "legend(LEGEND, loc='best')\n",
    "# Title\n",
    "title('Waverly Hills\\n Tallahassee, Florida', family='Times New Roman', \n",
    "      size=40, color='k', backgroundcolor='w', weight='bold')"
   ]
  },
  {
   "cell_type": "markdown",
   "metadata": {
    "collapsed": true
   },
   "source": [
    "<font size='5' face='Times New Roman'><b>1.13 <u>Create distance matrix</u></b></font>"
   ]
  },
  {
   "cell_type": "code",
   "execution_count": null,
   "metadata": {
    "collapsed": false
   },
   "outputs": [],
   "source": [
    "t1 = time.time()\n",
    "All_Neigh_Dist = ntw.allneighbordistances(sourcepattern=ntw.pointpatterns['Rand_Points_SUPPLY'],\n",
    "                                       destpattern=ntw.pointpatterns['Rand_Points_DEMAND'])\n",
    "All_Dist_MILES = All_Neigh_Dist * float(10000/90) * 0.6214\n",
    "seconds = round(time.time()-t1, 4)\n",
    "print seconds, 'seconds'\n",
    "print 'Supply to Demand Matrix Shape --> ', All_Dist_MILES.shape"
   ]
  },
  {
   "cell_type": "markdown",
   "metadata": {
    "collapsed": true
   },
   "source": [
    "<font size='7' face='Times New Roman'><b>2. <u>Optimize</u></b></font>"
   ]
  },
  {
   "cell_type": "code",
   "execution_count": null,
   "metadata": {
    "collapsed": false
   },
   "outputs": [],
   "source": [
    "t1 = time.time()\n",
    "#       1. Data\n",
    "# Cost Matrix\n",
    "Cij = All_Dist_MILES\n",
    "# Supply\n",
    "Si = Si\n",
    "SiSum = SiSum\n",
    "# Demand\n",
    "Dj = Dj\n",
    "DjSum = DjSum\n",
    "supply_nodes = range(len(Cij))\n",
    "demand_nodes = range(len(Cij[0]))\n",
    "\n",
    "#       2. Create Model, Set MIP Focus, Add Variables, & Update Model\n",
    "m = gbp.Model(' -- The Transportation Problem -- ')\n",
    "# Set MIP Focus to 2 for optimality\n",
    "gbp.setParam('MIPFocus', 2)\n",
    "# Create Shipping Decision Variable\n",
    "shipping_var = []\n",
    "for orig in supply_nodes:\n",
    "    shipping_var.append([])\n",
    "    for dest in demand_nodes:\n",
    "        shipping_var[orig].append(m.addVar(vtype=gbp.GRB.CONTINUOUS, \n",
    "                                        obj=Cij[orig][dest], \n",
    "                                        name='x'+str(orig+1)+'_'+str(dest+1)))\n",
    "# Update Model Variables\n",
    "m.update()       \n",
    "\n",
    "#       3. Set Objective Function\n",
    "m.setObjective(gbp.quicksum(Cij[orig][dest]*shipping_var[orig][dest] \n",
    "                        for orig in supply_nodes for dest in demand_nodes), \n",
    "                        gbp.GRB.MINIMIZE)\n",
    "                        \n",
    "#       4. Add Constraints\n",
    "# Add Supply Constraints\n",
    "for orig in supply_nodes:\n",
    "     m.addConstr(gbp.quicksum(shipping_var[dest][orig] \n",
    "                        for dest in demand_nodes) - Si[orig] == 0, \n",
    "                        'Supply_Constraint_%d' % orig)\n",
    "# Add Demand Constraints\n",
    "for orig in supply_nodes:\n",
    "     m.addConstr(gbp.quicksum(shipping_var[orig][dest] \n",
    "                        for dest in demand_nodes) - Dj[orig] == 0, \n",
    "                        'Demand_Constraint_%d' % orig)\n",
    "\n",
    "#       5. Optimize and Print Results\n",
    "m.optimize()\n",
    "t2 = time.time()-t1\n",
    "print '*****************************************************************************************'\n",
    "print '    | From SUPPLY Facility to DEMAND Facility x(i)_(j) shipping # of units  '\n",
    "print '    |                                         ↓↓        ↓↓     ↓↓'\n",
    "selected = []\n",
    "for v in m.getVars():\n",
    "    if v.x > 0:\n",
    "        var = '%s' % v.VarName\n",
    "        value = '%i' % v.x\n",
    "        selected.append(v.x)\n",
    "        print '    |                                       ', var, '____ Units: ' ,value\n",
    "print '    | Selected Facility Locations ---------  ^^^^^^^^^^^^^^^^^^^^^^^ '\n",
    "print '    | Supply/Demand Facility Combinations - ', len(selected)\n",
    "print '    | Supply Units Shipped ---------------- ', SiSum\n",
    "print '    | Demand Units Shipped ---------------- ', DjSum\n",
    "val = m.objVal\n",
    "print '    | Objective Value (total miles) ------- ', int(val)\n",
    "print '    | Real Time to Optimize (sec.) -------- ', t2\n",
    "print '*****************************************************************************************'\n",
    "print '\\nJames Gaboardi, 2015'\n",
    "m.write('path.lp')"
   ]
  }
 ],
 "metadata": {
  "kernelspec": {
   "display_name": "Python 2",
   "language": "python",
   "name": "python2"
  },
  "language_info": {
   "codemirror_mode": {
    "name": "ipython",
    "version": 2
   },
   "file_extension": ".py",
   "mimetype": "text/x-python",
   "name": "python",
   "nbconvert_exporter": "python",
   "pygments_lexer": "ipython2",
   "version": "2.7.9"
  }
 },
 "nbformat": 4,
 "nbformat_minor": 0
}
