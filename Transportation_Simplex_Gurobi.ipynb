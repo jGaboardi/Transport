{
 "cells": [
  {
   "cell_type": "code",
   "execution_count": null,
   "metadata": {
    "collapsed": false
   },
   "outputs": [],
   "source": [
    "# GNU LESSER GENERAL PUBLIC LICENSE\n",
    "# Version 3, 29 June 2007.\n",
    "# Copyright (C) 2007 Free Software Foundation, Inc. <http://fsf.org/>.\n",
    "# Everyone is permitted to copy and distribute verbatim copies of this \n",
    "# license document, but changing it is not allowed."
   ]
  },
  {
   "cell_type": "markdown",
   "metadata": {},
   "source": [
    "# The Transportation Simplex\n",
    "## Automated Simulation in GIS\n",
    "---\n",
    "\n",
    "### James Gaboardi, 2016"
   ]
  },
  {
   "cell_type": "markdown",
   "metadata": {},
   "source": [
    "---\n",
    "\n",
    "### Primal: minimize the cost needed to ship units from supply facilities to demand facilities.\n",
    "---\n",
    "\n",
    "## $\\text{Minimize}$\n",
    "## &nbsp;&nbsp;&nbsp;&nbsp;&nbsp;&nbsp;&nbsp;&nbsp;$\\displaystyle \\sum_{i \\in I} \\sum_{j \\in J} c_{ij} x_{ij}$\n",
    "## $\\text{Subject To}$\n",
    "## &nbsp;&nbsp;&nbsp;&nbsp;&nbsp;&nbsp;&nbsp;&nbsp;$\\displaystyle \\sum_{j \\in J} x_{ij} \\leq S_i $&nbsp;&nbsp;&nbsp;&nbsp;&nbsp;&nbsp;&nbsp;&nbsp;$\\forall i \\in I$\n",
    "## &nbsp;&nbsp;&nbsp;&nbsp;&nbsp;&nbsp;&nbsp;&nbsp;$\\displaystyle \\sum_{i \\in I} x_{ij} \\geq D_j $&nbsp;&nbsp;&nbsp;&nbsp;&nbsp;&nbsp;&nbsp;&nbsp;$\\forall j \\in J$\n",
    "## &nbsp;&nbsp;&nbsp;&nbsp;&nbsp;&nbsp;&nbsp;&nbsp;$\\displaystyle x_{ij} \\geq 0 $&nbsp;&nbsp;&nbsp;&nbsp;&nbsp;&nbsp;&nbsp;&nbsp;&nbsp;&nbsp;&nbsp;&nbsp;&nbsp;&nbsp;&nbsp;&nbsp;$\\forall i \\in I ; \\forall j \\in J$\n",
    "\n",
    "\n",
    "\n",
    "-----\n",
    "\n",
    "Adapted from:\n",
    "- ***Daskin, M. S. 1995***. Network and Discrete Location: Models, Algorithms, and Applications. Hoboken, NJ, USA: John Wiley & Sons, Inc."
   ]
  },
  {
   "cell_type": "markdown",
   "metadata": {},
   "source": [
    "--------------------"
   ]
  },
  {
   "cell_type": "markdown",
   "metadata": {},
   "source": [
    "## Imports & Set Up"
   ]
  },
  {
   "cell_type": "code",
   "execution_count": null,
   "metadata": {
    "collapsed": false
   },
   "outputs": [],
   "source": [
    "# Imports\n",
    "import pysal as ps\n",
    "import geopandas as gpd\n",
    "import numpy as np\n",
    "import networkx as nx\n",
    "from shapely.geometry import Point\n",
    "import shapely\n",
    "from collections import OrderedDict\n",
    "import pandas as pd\n",
    "import qgrid\n",
    "import gurobipy as gbp\n",
    "import time\n",
    "import bokeh\n",
    "from bokeh.plotting import figure, show, ColumnDataSource\n",
    "from bokeh.io import output_notebook, output_file, show\n",
    "from bokeh.models import (HoverTool, BoxAnnotation, GeoJSONDataSource, \n",
    "                          GMapPlot, GMapOptions, ColumnDataSource, Circle, \n",
    "                          DataRange1d, PanTool, WheelZoomTool, BoxSelectTool,\n",
    "                          ResetTool, MultiLine)\n",
    "import utm\n",
    "import matplotlib.pyplot as plt\n",
    "import matplotlib as mpl\n",
    "\n",
    "# MatPlotLib for Visualizations inline\n",
    "%matplotlib inline\n",
    "\n",
    "# Local path on user's machine\n",
    "path = '/Users/jgaboardi/Transport/Data/'\n",
    "#path = 'path/to/data/'\n",
    "\n",
    "# Set Random Seed\n",
    "np.random.seed(850)\n",
    "\n",
    "# Out inline notebook for Bokeh\n",
    "output_notebook()"
   ]
  },
  {
   "cell_type": "markdown",
   "metadata": {},
   "source": [
    "## Data preparation and creation"
   ]
  },
  {
   "cell_type": "markdown",
   "metadata": {},
   "source": [
    "### Reproject the street network with `GeoPandas`"
   ]
  },
  {
   "cell_type": "code",
   "execution_count": null,
   "metadata": {
    "collapsed": false
   },
   "outputs": [],
   "source": [
    "# Waverly  Hills\n",
    "streets = gpd.read_file(path+'Waverly_Trim/Waverly.shp')\n",
    "streets.to_crs(epsg=2779, inplace=True) # NAD83(HARN) / Florida North\n",
    "streets.to_file(path+'waverly/waverly.shp')\n",
    "streets[:5]"
   ]
  },
  {
   "cell_type": "markdown",
   "metadata": {},
   "source": [
    "### Plot Waverly Hills"
   ]
  },
  {
   "cell_type": "code",
   "execution_count": null,
   "metadata": {
    "collapsed": false
   },
   "outputs": [],
   "source": [
    "streets.plot()"
   ]
  },
  {
   "cell_type": "markdown",
   "metadata": {},
   "source": [
    "### Instantiate Network and read in `WAVERLY.shp`"
   ]
  },
  {
   "cell_type": "code",
   "execution_count": null,
   "metadata": {
    "collapsed": true
   },
   "outputs": [],
   "source": [
    "ntw = ps.Network(path+'waverly/waverly.shp')\n",
    "shp_waverly = ps.open(path+'waverly/waverly.shp')"
   ]
  },
  {
   "cell_type": "markdown",
   "metadata": {},
   "source": [
    "### Create Buffer of 200 meters"
   ]
  },
  {
   "cell_type": "code",
   "execution_count": null,
   "metadata": {
    "collapsed": false
   },
   "outputs": [],
   "source": [
    "intial_buffer = streets.buffer(50)  #Buffer\n",
    "intial_buffer[:5]"
   ]
  },
  {
   "cell_type": "markdown",
   "metadata": {},
   "source": [
    "### Plot Buffers of Individual Streets"
   ]
  },
  {
   "cell_type": "code",
   "execution_count": null,
   "metadata": {
    "collapsed": false
   },
   "outputs": [],
   "source": [
    "intial_buffer.plot()"
   ]
  },
  {
   "cell_type": "markdown",
   "metadata": {},
   "source": [
    "### Create a Unary Union of the individual street buffers"
   ]
  },
  {
   "cell_type": "code",
   "execution_count": null,
   "metadata": {
    "collapsed": false
   },
   "outputs": [],
   "source": [
    "union_buffer = intial_buffer.unary_union  #Buffer Union\n",
    "union_buffer = gpd.GeoSeries(union_buffer)\n",
    "union_buffer.crs = streets.crs\n",
    "final_buffer = gpd.GeoDataFrame(union_buffer, crs=streets.crs)\n",
    "final_buffer.columns = ['geometry']\n",
    "final_buffer"
   ]
  },
  {
   "cell_type": "markdown",
   "metadata": {},
   "source": [
    "### Plot the unary union buffer"
   ]
  },
  {
   "cell_type": "code",
   "execution_count": null,
   "metadata": {
    "collapsed": false
   },
   "outputs": [],
   "source": [
    "final_buffer.plot()"
   ]
  },
  {
   "cell_type": "markdown",
   "metadata": {},
   "source": [
    "### Create 1000 random points within the bounds of `WAVERLY.shp`"
   ]
  },
  {
   "cell_type": "code",
   "execution_count": null,
   "metadata": {
    "collapsed": false
   },
   "outputs": [],
   "source": [
    "np.random.seed(352)\n",
    "x = np.random.uniform(shp_waverly.bbox[0], shp_waverly.bbox[2], 100)\n",
    "np.random.seed(850)\n",
    "y = np.random.uniform(shp_waverly.bbox[1], shp_waverly.bbox[3], 100)  \n",
    "coords = zip(x,y)\n",
    "coords = [shapely.geometry.Point(i) for i in coords]\n",
    "sim_points = gpd.GeoDataFrame(coords)\n",
    "sim_points.crs = streets.crs\n",
    "sim_points.columns = ['geometry']\n",
    "sim_points[:5]"
   ]
  },
  {
   "cell_type": "markdown",
   "metadata": {},
   "source": [
    "### Plot the 1000 random "
   ]
  },
  {
   "cell_type": "code",
   "execution_count": null,
   "metadata": {
    "collapsed": false
   },
   "outputs": [],
   "source": [
    "sim_points.plot()"
   ]
  },
  {
   "cell_type": "markdown",
   "metadata": {},
   "source": [
    "### Create `GeoPandas` DF of the random points within the Unary Buffer"
   ]
  },
  {
   "cell_type": "code",
   "execution_count": null,
   "metadata": {
    "collapsed": false
   },
   "outputs": [],
   "source": [
    "intersection = [final_buffer['geometry'].intersection(p) for p in sim_points['geometry']]\n",
    "intersection = gpd.GeoDataFrame(intersection, crs=streets.crs)\n",
    "intersection.columns = ['geometry']\n",
    "intersection[:5]"
   ]
  },
  {
   "cell_type": "markdown",
   "metadata": {},
   "source": [
    "### Plot the points within the Unary Buffer"
   ]
  },
  {
   "cell_type": "code",
   "execution_count": null,
   "metadata": {
    "collapsed": false
   },
   "outputs": [],
   "source": [
    "intersection.plot()"
   ]
  },
  {
   "cell_type": "markdown",
   "metadata": {},
   "source": [
    "### Add only intersecting records to a list "
   ]
  },
  {
   "cell_type": "code",
   "execution_count": null,
   "metadata": {
    "collapsed": false
   },
   "outputs": [],
   "source": [
    "# Add records that are points within the buffer\n",
    "point_in = []\n",
    "for p in intersection['geometry']:\n",
    "    if type(p) == shapely.geometry.point.Point:\n",
    "        point_in.append(p)\n",
    "point_in[:5]"
   ]
  },
  {
   "cell_type": "markdown",
   "metadata": {},
   "source": [
    "### Create Simulated Supply and Demand"
   ]
  },
  {
   "cell_type": "code",
   "execution_count": null,
   "metadata": {
    "collapsed": false
   },
   "outputs": [],
   "source": [
    "# Supply\n",
    "supply_vector = np.random.randint(50, 200, 5)\n",
    "supply_vector = supply_vector.reshape(len(supply_vector),1)\n",
    "# Demand\n",
    "demand_vector = np.random.randint(10, 100, 10)\n",
    "demand_vector = demand_vector.reshape(len(demand_vector),1)"
   ]
  },
  {
   "cell_type": "markdown",
   "metadata": {},
   "source": [
    "### Create shapefiles of unsnapped locations:  Keep first 5 for Supply facilities and last 10 for Demand facilities"
   ]
  },
  {
   "cell_type": "code",
   "execution_count": null,
   "metadata": {
    "collapsed": false
   },
   "outputs": [],
   "source": [
    "# SUPPLY\n",
    "supply_gdf = gpd.GeoDataFrame(point_in[:5], crs=streets.crs)\n",
    "supply_gdf.columns = ['geometry']\n",
    "\n",
    "# DEMAND\n",
    "demand_gdf = gpd.GeoDataFrame(point_in[-10:], crs=streets.crs)\n",
    "demand_gdf.columns = ['geometry']\n",
    "\n",
    "########################################################    \n",
    "# Write out .shps    \n",
    "supply_gdf.to_file(path+'supply/supply.shp')\n",
    "demand_gdf.to_file(path+'demand/demand.shp')"
   ]
  },
  {
   "cell_type": "markdown",
   "metadata": {},
   "source": [
    "### Create dummy list to prepare for LatLon conversion"
   ]
  },
  {
   "cell_type": "code",
   "execution_count": null,
   "metadata": {
    "collapsed": false
   },
   "outputs": [],
   "source": [
    "supply_locations = []\n",
    "for i in supply_gdf['geometry']:\n",
    "    supply_locations.append(i)\n",
    "supply_locations = pd.DataFrame(supply_locations)    \n",
    "supply_locations.columns = ['geometry']    \n",
    "supply_locations = gpd.GeoDataFrame(supply_locations, crs=streets.crs)\n",
    "\n",
    "demand_locations = []\n",
    "for i in demand_gdf['geometry']:\n",
    "    demand_locations.append(i)\n",
    "demand_locations = pd.DataFrame(demand_locations)    \n",
    "demand_locations.columns = ['geometry']    \n",
    "demand_locations = gpd.GeoDataFrame(demand_locations, crs=streets.crs)"
   ]
  },
  {
   "cell_type": "markdown",
   "metadata": {},
   "source": [
    "### Covert location to LatLon attributes"
   ]
  },
  {
   "cell_type": "code",
   "execution_count": null,
   "metadata": {
    "collapsed": false
   },
   "outputs": [],
   "source": [
    "# Convert store SUPPLY locations to LatLon\n",
    "supply_locations.to_crs(epsg=32616, inplace=True) # UTM 16N\n",
    "supply_locations_LonLat_Dict = OrderedDict()\n",
    "supply_locations_LonLat_List = []\n",
    "\n",
    "for i,j in supply_locations['geometry'].iteritems():\n",
    "    supply_locations_LonLat_Dict[supply_locations.index[i]] = utm.to_latlon(j.xy[0][-1], j.xy[1][-1], 16, 'N')  \n",
    "    supply_locations_LonLat_List.append((utm.to_latlon(j.xy[0][-1], j.xy[1][-1], 16, 'N')))\n",
    "\n",
    "supply_locations_Lat_List = []\n",
    "supply_locations_Lon_List = []\n",
    "    \n",
    "for i in supply_locations_LonLat_List:\n",
    "    supply_locations_Lat_List.append(i[0])\n",
    "for i in supply_locations_LonLat_List:\n",
    "    supply_locations_Lon_List.append(i[1])\n",
    "# Add Columns of data\n",
    "supply_gdf['ID'] = ['s'+str(num) for num in range(10001, len(supply_vector)+10001)]\n",
    "supply_gdf['Units Supplied'] = supply_vector\n",
    "supply_gdf['Lat'] = supply_locations_Lat_List\n",
    "supply_gdf['Lon'] = supply_locations_Lon_List\n",
    "\n",
    "# Convert store DEMAND locations to LatLon\n",
    "demand_locations.to_crs(epsg=32616, inplace=True) # UTM 16N\n",
    "demand_locations_LonLat_Dict = OrderedDict()\n",
    "demand_locations_LonLat_List = []\n",
    "\n",
    "for i,j in demand_locations['geometry'].iteritems():\n",
    "    demand_locations_LonLat_Dict[demand_locations.index[i]] = utm.to_latlon(j.xy[0][-1], j.xy[1][-1], 16, 'N')  \n",
    "    demand_locations_LonLat_List.append((utm.to_latlon(j.xy[0][-1], j.xy[1][-1], 16, 'N')))\n",
    "\n",
    "demand_locations_Lat_List = []\n",
    "demand_locations_Lon_List = []\n",
    "    \n",
    "for i in demand_locations_LonLat_List:\n",
    "    demand_locations_Lat_List.append(i[0])\n",
    "for i in demand_locations_LonLat_List:\n",
    "    demand_locations_Lon_List.append(i[1])\n",
    "# Add Columns of data\n",
    "\n",
    "demand_gdf['ID'] = ['d'+str(num) for num in range(10001, len(demand_vector)+10001)]\n",
    "demand_gdf['Units Demanded'] = demand_vector\n",
    "demand_gdf['Lat'] = demand_locations_Lat_List\n",
    "demand_gdf['Lon'] = demand_locations_Lon_List\n",
    "\n",
    "#############################################################\n",
    "# Write out .shps    \n",
    "supply_gdf.to_file(path+'supply/supply.shp')\n",
    "demand_gdf.to_file(path+'demand/demand.shp')"
   ]
  },
  {
   "cell_type": "code",
   "execution_count": null,
   "metadata": {
    "collapsed": false
   },
   "outputs": [],
   "source": [
    "supply_gdf[:2]"
   ]
  },
  {
   "cell_type": "code",
   "execution_count": null,
   "metadata": {
    "collapsed": false
   },
   "outputs": [],
   "source": [
    "demand_gdf[:2]"
   ]
  },
  {
   "cell_type": "markdown",
   "metadata": {},
   "source": [
    "### Instaniate non-solution graphs to be drawn"
   ]
  },
  {
   "cell_type": "code",
   "execution_count": null,
   "metadata": {
    "collapsed": true
   },
   "outputs": [],
   "source": [
    "# Roads and Nodes\n",
    "graph_roads = nx.Graph()\n",
    "# Clients\n",
    "graph_supply = nx.Graph()\n",
    "# Snapped Supply\n",
    "snapped_supply = nx.Graph()\n",
    "# Demand\n",
    "graph_demand = nx.Graph()\n",
    "# Snapped Demand\n",
    "snapped_demand = nx.Graph()"
   ]
  },
  {
   "cell_type": "markdown",
   "metadata": {},
   "source": [
    "### Instantiate and fill Supply and Demand point dictionaries"
   ]
  },
  {
   "cell_type": "code",
   "execution_count": null,
   "metadata": {
    "collapsed": true
   },
   "outputs": [],
   "source": [
    "points_supply = {} \n",
    "points_demand = {}\n",
    "\n",
    "sply = ps.open(path+'supply/supply.shp')\n",
    "for idx, coords in enumerate(sply):\n",
    "    graph_supply.add_node(idx)\n",
    "    points_supply[idx] = coords\n",
    "    graph_supply.node[idx] = coords\n",
    "    \n",
    "dmnd = ps.open(path+'demand/demand.shp')\n",
    "for idx, coords in enumerate(dmnd):\n",
    "    graph_demand.add_node(idx)\n",
    "    points_demand[idx] = coords\n",
    "    graph_demand.node[idx] = coords"
   ]
  },
  {
   "cell_type": "markdown",
   "metadata": {},
   "source": [
    "### Snap Observations to NTW"
   ]
  },
  {
   "cell_type": "code",
   "execution_count": null,
   "metadata": {
    "collapsed": false
   },
   "outputs": [],
   "source": [
    "# Snap\n",
    "ntw.snapobservations(path+'supply/supply.shp', \n",
    "                     'simulated_supply', attribute=True)\n",
    "ntw.snapobservations(path+'demand/demand.shp', \n",
    "                     'simulated_demand', attribute=True)"
   ]
  },
  {
   "cell_type": "markdown",
   "metadata": {
    "collapsed": true
   },
   "source": [
    "### Draw NTW, snapped coords, & random coords"
   ]
  },
  {
   "cell_type": "code",
   "execution_count": null,
   "metadata": {
    "collapsed": false
   },
   "outputs": [],
   "source": [
    "# Instantiate Figure\n",
    "mpl.rcParams['figure.figsize']=5,8\n",
    "\n",
    "# Draw Graph of Roads\n",
    "for e in ntw.edges:\n",
    "    graph_roads.add_edge(*e)\n",
    "nx.draw(graph_roads, ntw.node_coords, node_size=5, alpha=0.25, edge_color='r', width=2)\n",
    "\n",
    "# Draw Graph of Snapped Supply Nodes\n",
    "for p,coords in ntw.pointpatterns['simulated_supply'].snapped_coordinates.iteritems():\n",
    "    snapped_supply.add_node(p)\n",
    "    snapped_supply.node[p] = coords\n",
    "nx.draw(snapped_supply, ntw.pointpatterns['simulated_supply'].snapped_coordinates, \n",
    "        node_size=100, alpha=1, node_color='b')\n",
    "\n",
    "# Draw Graph of Snapped Demand Nodes\n",
    "for p,coords in ntw.pointpatterns['simulated_demand'].snapped_coordinates.iteritems():\n",
    "    snapped_demand.add_node(p)\n",
    "    snapped_demand.node[p] = coords\n",
    "nx.draw(snapped_demand, ntw.pointpatterns['simulated_demand'].snapped_coordinates, \n",
    "        node_size=100, alpha=1, node_color='c')\n",
    "\n",
    "# Draw Graph of Random Supply Points\n",
    "nx.draw(graph_supply, points_supply, \n",
    "    node_size=20, alpha=1, node_color='y')\n",
    "\n",
    "# Draw Graph of Random Demand Points\n",
    "nx.draw(graph_demand, points_demand, \n",
    "    node_size=20, alpha=1, node_color='w')\n",
    "\n",
    "# Legend (Ordered Dictionary)\n",
    "legend = OrderedDict()\n",
    "legend['Network Nodes']=graph_roads\n",
    "legend['Roads']=graph_roads\n",
    "legend['Snapped Supply']=snapped_supply\n",
    "legend['Snapped Demand']=snapped_demand\n",
    "legend['Supply Nodes']=graph_supply\n",
    "legend['Demand Nodes']=graph_demand\n",
    "\n",
    "plt.legend(legend, loc='best')\n",
    "# Title\n",
    "plt.title('Waverly Hills\\n Tallahassee, Florida', family='Times New Roman', \n",
    "      size=40, color='k', backgroundcolor='w', weight='bold')\n",
    "# Must be changed for different spatial resolutions, etc.\n",
    "plt.arrow(624000, 164050, 0.0, 500, width=50, head_width=125, \n",
    "          head_length=75, fc='k', ec='k',alpha=0.75,)\n",
    "plt.annotate('N', xy=(623900, 164700), fontstyle='italic', fontsize='xx-large',\n",
    "            fontweight='heavy', alpha=0.75)\n",
    "plt.annotate('<| ~ .25 miles |>', xy=(623200, 163600), \n",
    "             fontstyle='italic', fontsize='large', alpha=0.95)\n",
    "\n",
    "plt.show()"
   ]
  },
  {
   "cell_type": "markdown",
   "metadata": {
    "collapsed": true
   },
   "source": [
    "### Create distance matrix"
   ]
  },
  {
   "cell_type": "code",
   "execution_count": null,
   "metadata": {
    "collapsed": false,
    "scrolled": true
   },
   "outputs": [],
   "source": [
    "t1 = time.time()\n",
    "cost_matrix = ntw.allneighbordistances(sourcepattern=ntw.pointpatterns['simulated_supply'],\n",
    "                                       destpattern=ntw.pointpatterns['simulated_demand'])\n",
    "cost_matrix = cost_matrix * 0.000621371 # to miles\n",
    "seconds = round(time.time()-t1, 4)\n",
    "print seconds, 'seconds'\n",
    "print 'Supply to Demand Matrix Shape --> ', cost_matrix.shape"
   ]
  },
  {
   "cell_type": "markdown",
   "metadata": {
    "collapsed": true
   },
   "source": [
    "### Optimize"
   ]
  },
  {
   "cell_type": "code",
   "execution_count": null,
   "metadata": {
    "collapsed": false,
    "scrolled": true
   },
   "outputs": [],
   "source": [
    "def gurobi_transportation_simplex(cij, si, dj):\n",
    "    global selected\n",
    "    \n",
    "    t1 = time.time()\n",
    "    \n",
    "    # Indices & Variable Names\n",
    "    supply_nodes_len = len(cij)\n",
    "    demand_nodes_len = len(cij[0])\n",
    "    supply_nodes_range = range(supply_nodes_len)\n",
    "    demand_nodes_range = range(demand_nodes_len)\n",
    "    all_nodes_len = supply_nodes_len * demand_nodes_len\n",
    "    all_nodes_range = range(all_nodes_len)\n",
    "    \n",
    "    m = gbp.Model()                   # Instantiate Modeel\n",
    "    gbp.setParam('MIPFocus', 2)       # Set MIP Focus to 2 for optimality\n",
    "    \n",
    "    descision_variable = []           # Serialzed Decision Variable --> s10001_d10001\n",
    "    for origin in supply_nodes_range:\n",
    "        descision_variable.append([])\n",
    "        for destination in demand_nodes_range:\n",
    "            descision_variable[origin].append(m.addVar(vtype=gbp.GRB.CONTINUOUS, \n",
    "                                            obj=cij[origin][destination], \n",
    "                                            name='s'+str(origin+10001)+'_d'+str(destination+10001)))\n",
    "    # Update Model Variables\n",
    "    m.update()       \n",
    "    \n",
    "    #  Set Objective Function\n",
    "    m.setObjective(gbp.quicksum(cij[origin][destination]*descision_variable[origin][destination] \n",
    "                            for origin in supply_nodes_range for dest in demand_nodes_range), \n",
    "                            gbp.GRB.MINIMIZE)\n",
    "                            \n",
    "    # Add Supply Constraints\n",
    "    for origin in supply_nodes_range:\n",
    "        m.addConstr(gbp.quicksum(descision_variable[origin][destination] \n",
    "                            for destination in demand_nodes_range) - si[origin] <= 0)\n",
    "    # Add Demand Constraints\n",
    "    for origin in demand_nodes_range:\n",
    "        m.addConstr(gbp.quicksum(descision_variable[destination][origin] \n",
    "                            for destination in supply_nodes_range) - dj[origin] >= 0)\n",
    "    \n",
    "    #  Optimize and Print Results\n",
    "    m.optimize()\n",
    "    t2 = time.time()-t1\n",
    "    \n",
    "    print '******************************************************************************'\n",
    "    print '| From SUPPLY Facility to DEMAND Facility x(Si)_(Dj) shipping # of units  '\n",
    "    print '| ↓↓↓↓↓↓↓↓↓↓↓↓↓↓↓↓↓↓↓↓↓↓↓↓↓↓↓↓↓↓↓↓↓↓↓↓↓↓↓↓↓↓↓↓↓↓↓↓↓↓↓↓↓↓↓↓↓↓↓↓↓↓↓↓↓↓↓↓↓↓↓↓'\n",
    "    print '|'\n",
    "    selected = OrderedDict()   # Selected Locations\n",
    "    closed = []                # Closed Locations\n",
    "    for v in m.getVars():      # for each decision variable in the models\n",
    "        var = '%s' % v.VarName\n",
    "        if v.x > 0:\n",
    "            units = '%i' % v.x\n",
    "            selected[var] = units\n",
    "            print '|  Supply Facility #', var[1:6], 'is shipping', units, \\\n",
    "                                                'units to Demand Facility #', var[-5:]\n",
    "        else:\n",
    "            closed.append([var[1:6], var[-5:]])\n",
    "    \n",
    "    print '******************************************************************************'\n",
    "    print '    | Objective Value (miles)-------------- ', round(m.objVal, 4)\n",
    "    print '    | Supply Facilities ------------------- ', len(si)\n",
    "    print '    | Total Supply Units ------------------ ', si.sum()\n",
    "    print '    | Demand Facilites -------------------- ', len(dj)\n",
    "    print '    | Total Demand Units ------------------ ', dj.sum()\n",
    "    print '    | Matrix Dimensions ------------------- ', cij.shape\n",
    "    print '    | Total Potential Combinations -------- ', len(si)*len(dj)\n",
    "    print '    | Actual Combinations  ---------------- ', len(selected)\n",
    "    print '    | Real Time to Optimize (sec.) -------- ', round(t2, 4)\n",
    "    print '******************************************************************************'\n",
    "    print '  --  The Transportation Simplex with Gurobi --'\n",
    "    m.write('path.lp')\n",
    "    \n",
    "#########################################################################################\n",
    "# Data can be read-in or simulated\n",
    "# Call Function   \n",
    "gurobi_transportation_simplex(cij=cost_matrix,   # Cost Matrix\n",
    "                              si=supply_vector,  # Vector of Units Supplied\n",
    "                              dj=demand_vector)  # Vector of Units Demanded\n",
    "\n",
    "print '\\nJames Gaboardi, 2016'\n",
    "print '******************************************************************************'"
   ]
  },
  {
   "cell_type": "markdown",
   "metadata": {},
   "source": [
    "### Create Results DataFrame"
   ]
  },
  {
   "cell_type": "code",
   "execution_count": null,
   "metadata": {
    "collapsed": false
   },
   "outputs": [],
   "source": [
    "print ' From SUPPLY Facility to DEMAND Facility x(Si)_(Dj) shipping # of units  '\n",
    "results = pd.DataFrame(index=['s'+str(origin+10001) for origin in range(len(supply_vector))],\n",
    "                         columns=['d'+str(destination+10001) for destination in range(len(demand_vector))])\n",
    "for i,j in selected.iteritems():\n",
    "    if i[:6] in results.index and i[-6:] in results.columns:\n",
    "        results[i[-6:]][i[:6]] = j\n",
    "results = results.fillna(0)\n",
    "results\n",
    "\n",
    "# qgrid.show_grid(results)"
   ]
  },
  {
   "cell_type": "markdown",
   "metadata": {},
   "source": [
    "### Plot in Google Maps -- Hover over a Location for Information"
   ]
  },
  {
   "cell_type": "code",
   "execution_count": null,
   "metadata": {
    "collapsed": false
   },
   "outputs": [],
   "source": [
    "map_options = GMapOptions(lat=30.4855, lng=-84.265, map_type=\"hybrid\", zoom=14)\n",
    "\n",
    "plot = GMapPlot(\n",
    "    x_range=DataRange1d(), y_range=DataRange1d(), map_options=map_options, title=\"Waverly Hills\")\n",
    "\n",
    "hover = HoverTool(tooltips=\"\"\"\n",
    "        <div>\n",
    "            <div>\n",
    "                \n",
    "            </div>\n",
    "            <div>\n",
    "                <span style=\"font-size: 30px; font-weight: bold;\">Site @desc</span> \n",
    "            </div>\n",
    "            <div>\n",
    "                <span> \\b </span>\n",
    "            </div>\n",
    "            <div>\n",
    "                <span style=\"font-size: 17px; font-weight: bold;\">Units Available to Ship or Receive</span> \n",
    "            <div>\n",
    "                <span style=\"font-size: 14px; font-weight: bold; color: #00b300;\">@units_total</span>\n",
    "            </div>\n",
    "        </div>\"\"\")\n",
    "\n",
    "supply_source = ColumnDataSource(\n",
    "        data=dict(\n",
    "        lat=supply_gdf['Lat'],\n",
    "        lon=supply_gdf['Lon'],\n",
    "        desc=supply_gdf['ID'],\n",
    "        units_total=supply_gdf['Units Supplied']))\n",
    "\n",
    "demand_source = ColumnDataSource(\n",
    "        data=dict(\n",
    "        lat=demand_gdf['Lat'],\n",
    "        lon=demand_gdf['Lon'],\n",
    "        desc=demand_gdf['ID'],\n",
    "        units_total=demand_gdf['Units Demanded']))\n",
    "\n",
    "supply_facilties = Circle(x=\"lon\", y=\"lat\", \n",
    "                   size=10, fill_color=\"yellow\", \n",
    "                   fill_alpha=0.6, line_color=None)\n",
    "\n",
    "demand_facilties = Circle(x=\"lon\", y=\"lat\", \n",
    "                   size=10, fill_color=\"red\", \n",
    "                   fill_alpha=0.6, line_color=None)\n",
    "\n",
    "plot.add_glyph(supply_source, supply_facilties)\n",
    "\n",
    "plot.add_glyph(demand_source, demand_facilties)\n",
    "\n",
    "plot.add_tools(PanTool(), WheelZoomTool(), BoxSelectTool(), ResetTool(), hover)\n",
    "output_file(\"gmap_plot.html\")\n",
    "show(plot)"
   ]
  },
  {
   "cell_type": "markdown",
   "metadata": {
    "collapsed": true
   },
   "source": [
    "----------"
   ]
  }
 ],
 "metadata": {
  "kernelspec": {
   "display_name": "Python 2",
   "language": "python",
   "name": "python2"
  },
  "language_info": {
   "codemirror_mode": {
    "name": "ipython",
    "version": 2
   },
   "file_extension": ".py",
   "mimetype": "text/x-python",
   "name": "python",
   "nbconvert_exporter": "python",
   "pygments_lexer": "ipython2",
   "version": "2.7.10"
  }
 },
 "nbformat": 4,
 "nbformat_minor": 0
}
