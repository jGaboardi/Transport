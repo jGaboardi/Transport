{
 "cells": [
  {
   "cell_type": "code",
   "execution_count": null,
   "metadata": {
    "collapsed": true
   },
   "outputs": [],
   "source": [
    "'''\n",
    "GNU LESSER GENERAL PUBLIC LICENSE\n",
    "Version 3, 29 June 2007.\n",
    "Copyright (C) 2007 Free Software Foundation, Inc. <http://fsf.org/>.\n",
    "Everyone is permitted to copy and distribute verbatim copies of this \n",
    "license document, but changing it is not allowed.\n",
    "'''"
   ]
  },
  {
   "cell_type": "markdown",
   "metadata": {},
   "source": [
    "# The Transportation Simplex\n",
    "## Automated Simulation in GIS\n",
    "---\n",
    "\n",
    "### James Gaboardi, 2015"
   ]
  },
  {
   "cell_type": "markdown",
   "metadata": {},
   "source": []
  },
  {
   "cell_type": "markdown",
   "metadata": {},
   "source": [
    "--------------------"
   ]
  },
  {
   "cell_type": "markdown",
   "metadata": {},
   "source": [
    "## Imports & Set Up"
   ]
  },
  {
   "cell_type": "code",
   "execution_count": 1,
   "metadata": {
    "collapsed": false
   },
   "outputs": [
    {
     "name": "stderr",
     "output_type": "stream",
     "text": [
      "/Users/jgaboardi/Library/Enthought/Canopy_64bit/User/lib/python2.7/site-packages/matplotlib/font_manager.py:273: UserWarning: Matplotlib is building the font cache using fc-list. This may take a moment.\n",
      "  warnings.warn('Matplotlib is building the font cache using fc-list. This may take a moment.')\n"
     ]
    },
    {
     "data": {
      "text/html": [
       "\n",
       "    <div class=\"bk-banner\">\n",
       "        <a href=\"http://bokeh.pydata.org\" target=\"_blank\" class=\"bk-logo bk-logo-small bk-logo-notebook\"></a>\n",
       "        <span id=\"8fc9bdc8-bc67-4d22-b02a-f70b6a04b157\">Loading BokehJS ...</span>\n",
       "    </div>"
      ]
     },
     "metadata": {},
     "output_type": "display_data"
    },
    {
     "data": {
      "application/javascript": [
       "\n",
       "(function(global) {\n",
       "  function now() {\n",
       "    return new Date();\n",
       "  }\n",
       "\n",
       "  if (typeof (window._bokeh_onload_callbacks) === \"undefined\") {\n",
       "    window._bokeh_onload_callbacks = [];\n",
       "  }\n",
       "\n",
       "  function run_callbacks() {\n",
       "    window._bokeh_onload_callbacks.forEach(function(callback) { callback() });\n",
       "    delete window._bokeh_onload_callbacks\n",
       "    console.info(\"Bokeh: all callbacks have finished\");\n",
       "  }\n",
       "\n",
       "  function load_libs(js_urls, callback) {\n",
       "    window._bokeh_onload_callbacks.push(callback);\n",
       "    if (window._bokeh_is_loading > 0) {\n",
       "      console.log(\"Bokeh: BokehJS is being loaded, scheduling callback at\", now());\n",
       "      return null;\n",
       "    }\n",
       "    if (js_urls == null || js_urls.length === 0) {\n",
       "      run_callbacks();\n",
       "      return null;\n",
       "    }\n",
       "    console.log(\"Bokeh: BokehJS not loaded, scheduling load and callback at\", now());\n",
       "    window._bokeh_is_loading = js_urls.length;\n",
       "    for (var i = 0; i < js_urls.length; i++) {\n",
       "      var url = js_urls[i];\n",
       "      var s = document.createElement('script');\n",
       "      s.src = url;\n",
       "      s.async = false;\n",
       "      s.onreadystatechange = s.onload = function() {\n",
       "        window._bokeh_is_loading--;\n",
       "        if (window._bokeh_is_loading === 0) {\n",
       "          console.log(\"Bokeh: all BokehJS libraries loaded\");\n",
       "          run_callbacks()\n",
       "        }\n",
       "      };\n",
       "      s.onerror = function() {\n",
       "        console.warn(\"failed to load library \" + url);\n",
       "      };\n",
       "      console.log(\"Bokeh: injecting script tag for BokehJS library: \", url);\n",
       "      document.getElementsByTagName(\"head\")[0].appendChild(s);\n",
       "    }\n",
       "  };\n",
       "\n",
       "  var js_urls = ['https://cdn.pydata.org/bokeh/release/bokeh-0.11.1.min.js', 'https://cdn.pydata.org/bokeh/release/bokeh-widgets-0.11.1.min.js', 'https://cdn.pydata.org/bokeh/release/bokeh-compiler-0.11.1.min.js'];\n",
       "\n",
       "  var inline_js = [\n",
       "    function(Bokeh) {\n",
       "      Bokeh.set_log_level(\"info\");\n",
       "    },\n",
       "    \n",
       "    function(Bokeh) {\n",
       "      Bokeh.$(\"#8fc9bdc8-bc67-4d22-b02a-f70b6a04b157\").text(\"BokehJS successfully loaded\");\n",
       "    },\n",
       "    function(Bokeh) {\n",
       "      console.log(\"Bokeh: injecting CSS: https://cdn.pydata.org/bokeh/release/bokeh-0.11.1.min.css\");\n",
       "      Bokeh.embed.inject_css(\"https://cdn.pydata.org/bokeh/release/bokeh-0.11.1.min.css\");\n",
       "      console.log(\"Bokeh: injecting CSS: https://cdn.pydata.org/bokeh/release/bokeh-widgets-0.11.1.min.css\");\n",
       "      Bokeh.embed.inject_css(\"https://cdn.pydata.org/bokeh/release/bokeh-widgets-0.11.1.min.css\");\n",
       "    }\n",
       "  ];\n",
       "\n",
       "  function run_inline_js() {\n",
       "    for (var i = 0; i < inline_js.length; i++) {\n",
       "      inline_js[i](window.Bokeh);\n",
       "    }\n",
       "  }\n",
       "\n",
       "  if (window._bokeh_is_loading === 0) {\n",
       "    console.log(\"Bokeh: BokehJS loaded, going straight to plotting\");\n",
       "    run_inline_js();\n",
       "  } else {\n",
       "    load_libs(js_urls, function() {\n",
       "      console.log(\"Bokeh: BokehJS plotting callback run at\", now());\n",
       "      run_inline_js();\n",
       "    });\n",
       "  }\n",
       "}(this));"
      ]
     },
     "metadata": {},
     "output_type": "display_data"
    }
   ],
   "source": [
    "# Imports\n",
    "import pysal as ps\n",
    "import geopandas as gpd\n",
    "import numpy as np\n",
    "import networkx as nx\n",
    "import shapefile as shp\n",
    "from shapely.geometry import Point\n",
    "import shapely\n",
    "from collections import OrderedDict\n",
    "import pandas as pd\n",
    "import qgrid\n",
    "import gurobipy as gbp\n",
    "import time\n",
    "import bokeh\n",
    "from bokeh.plotting import figure, show, ColumnDataSource\n",
    "from bokeh.io import output_notebook, output_file, show\n",
    "from bokeh.models import (HoverTool, BoxAnnotation, GeoJSONDataSource, \n",
    "                          GMapPlot, GMapOptions, ColumnDataSource, Circle, \n",
    "                          DataRange1d, PanTool, WheelZoomTool, BoxSelectTool,\n",
    "                          ResetTool, MultiLine)\n",
    "import utm\n",
    "import matplotlib.pyplot as plt\n",
    "import matplotlib as mpl\n",
    "\n",
    "# MatPlotLib for Visualizations inline\n",
    "%matplotlib inline\n",
    "\n",
    "# Local path on user's machine\n",
    "path = '/Users/jgaboardi/Transport/Data/'\n",
    "#path = 'path/to/data/'\n",
    "\n",
    "# Set Random Seed\n",
    "np.random.seed(352)\n",
    "\n",
    "# Out inline notebook for Bokeh\n",
    "output_notebook()"
   ]
  },
  {
   "cell_type": "markdown",
   "metadata": {},
   "source": [
    "## Data preparation and creation"
   ]
  },
  {
   "cell_type": "markdown",
   "metadata": {},
   "source": [
    "### Reproject the street network with `GeoPandas`"
   ]
  },
  {
   "cell_type": "code",
   "execution_count": 2,
   "metadata": {
    "collapsed": false
   },
   "outputs": [
    {
     "data": {
      "text/html": [
       "<div>\n",
       "<table border=\"1\" class=\"dataframe\">\n",
       "  <thead>\n",
       "    <tr style=\"text-align: right;\">\n",
       "      <th></th>\n",
       "      <th>ACCESS_</th>\n",
       "      <th>ALIAS_NAME</th>\n",
       "      <th>BUILT_DATE</th>\n",
       "      <th>BUILT_STAT</th>\n",
       "      <th>CLASS</th>\n",
       "      <th>CONN_TYPE</th>\n",
       "      <th>COUNTY</th>\n",
       "      <th>EDIT_BY</th>\n",
       "      <th>EDIT_DATE</th>\n",
       "      <th>EDIT_TYPE</th>\n",
       "      <th>...</th>\n",
       "      <th>SOURCE</th>\n",
       "      <th>SPEED</th>\n",
       "      <th>STATUS</th>\n",
       "      <th>SUFFIX</th>\n",
       "      <th>TF_COST</th>\n",
       "      <th>THEOR_RANG</th>\n",
       "      <th>TRAVEL_FLA</th>\n",
       "      <th>TYPE</th>\n",
       "      <th>T_ELEV</th>\n",
       "      <th>geometry</th>\n",
       "    </tr>\n",
       "  </thead>\n",
       "  <tbody>\n",
       "    <tr>\n",
       "      <th>0</th>\n",
       "      <td>None</td>\n",
       "      <td>SR - 61</td>\n",
       "      <td>None</td>\n",
       "      <td>BUILT</td>\n",
       "      <td>8</td>\n",
       "      <td>CONN</td>\n",
       "      <td>LEON</td>\n",
       "      <td>HAGESETHC</td>\n",
       "      <td>2014-02-26</td>\n",
       "      <td>O</td>\n",
       "      <td>...</td>\n",
       "      <td>DOP2008TFC</td>\n",
       "      <td>5</td>\n",
       "      <td>O</td>\n",
       "      <td>None</td>\n",
       "      <td>0.090264</td>\n",
       "      <td>N</td>\n",
       "      <td>2</td>\n",
       "      <td>RD</td>\n",
       "      <td>0</td>\n",
       "      <td>LINESTRING (623093.510832076 164171.1041567803...</td>\n",
       "    </tr>\n",
       "    <tr>\n",
       "      <th>1</th>\n",
       "      <td>None</td>\n",
       "      <td>SR - 61</td>\n",
       "      <td>None</td>\n",
       "      <td>BUILT</td>\n",
       "      <td>8</td>\n",
       "      <td>INTE</td>\n",
       "      <td>LEON</td>\n",
       "      <td>HAGESETHC</td>\n",
       "      <td>2014-02-26</td>\n",
       "      <td>O</td>\n",
       "      <td>...</td>\n",
       "      <td>FDOR2007TFC</td>\n",
       "      <td>25</td>\n",
       "      <td>O</td>\n",
       "      <td>None</td>\n",
       "      <td>0.017222</td>\n",
       "      <td>N</td>\n",
       "      <td>2</td>\n",
       "      <td>RD</td>\n",
       "      <td>0</td>\n",
       "      <td>LINESTRING (622515.1922320754 163214.635256776...</td>\n",
       "    </tr>\n",
       "    <tr>\n",
       "      <th>2</th>\n",
       "      <td>None</td>\n",
       "      <td>SR - 61</td>\n",
       "      <td>None</td>\n",
       "      <td>BUILT</td>\n",
       "      <td>8</td>\n",
       "      <td>CONN</td>\n",
       "      <td>LEON</td>\n",
       "      <td>HAGESETHC</td>\n",
       "      <td>2014-02-26</td>\n",
       "      <td>O</td>\n",
       "      <td>...</td>\n",
       "      <td>DOP2008TFC</td>\n",
       "      <td>5</td>\n",
       "      <td>O</td>\n",
       "      <td>None</td>\n",
       "      <td>0.091403</td>\n",
       "      <td>N</td>\n",
       "      <td>2</td>\n",
       "      <td>RD</td>\n",
       "      <td>0</td>\n",
       "      <td>LINESTRING (623548.0931320738 165478.253356780...</td>\n",
       "    </tr>\n",
       "    <tr>\n",
       "      <th>3</th>\n",
       "      <td>None</td>\n",
       "      <td>SR - 61</td>\n",
       "      <td>None</td>\n",
       "      <td>BUILT</td>\n",
       "      <td>8</td>\n",
       "      <td>CONN</td>\n",
       "      <td>LEON</td>\n",
       "      <td>HAGESETHC</td>\n",
       "      <td>2014-02-26</td>\n",
       "      <td>O</td>\n",
       "      <td>...</td>\n",
       "      <td>DOP2008TFC</td>\n",
       "      <td>5</td>\n",
       "      <td>O</td>\n",
       "      <td>None</td>\n",
       "      <td>0.090467</td>\n",
       "      <td>N</td>\n",
       "      <td>2</td>\n",
       "      <td>RD</td>\n",
       "      <td>0</td>\n",
       "      <td>LINESTRING (623167.8413320724 164328.903156780...</td>\n",
       "    </tr>\n",
       "    <tr>\n",
       "      <th>4</th>\n",
       "      <td>None</td>\n",
       "      <td>SR - 61</td>\n",
       "      <td>None</td>\n",
       "      <td>BUILT</td>\n",
       "      <td>8</td>\n",
       "      <td>CONN</td>\n",
       "      <td>LEON</td>\n",
       "      <td>HAGESETHC</td>\n",
       "      <td>2014-02-26</td>\n",
       "      <td>O</td>\n",
       "      <td>...</td>\n",
       "      <td>DOP2008TFC</td>\n",
       "      <td>5</td>\n",
       "      <td>O</td>\n",
       "      <td>None</td>\n",
       "      <td>0.089032</td>\n",
       "      <td>N</td>\n",
       "      <td>2</td>\n",
       "      <td>RD</td>\n",
       "      <td>0</td>\n",
       "      <td>LINESTRING (623546.4237320729 165409.808056779...</td>\n",
       "    </tr>\n",
       "  </tbody>\n",
       "</table>\n",
       "<p>5 rows × 46 columns</p>\n",
       "</div>"
      ],
      "text/plain": [
       "  ACCESS_ ALIAS_NAME BUILT_DATE BUILT_STAT  CLASS CONN_TYPE COUNTY    EDIT_BY  \\\n",
       "0    None    SR - 61       None      BUILT      8      CONN   LEON  HAGESETHC   \n",
       "1    None    SR - 61       None      BUILT      8      INTE   LEON  HAGESETHC   \n",
       "2    None    SR - 61       None      BUILT      8      CONN   LEON  HAGESETHC   \n",
       "3    None    SR - 61       None      BUILT      8      CONN   LEON  HAGESETHC   \n",
       "4    None    SR - 61       None      BUILT      8      CONN   LEON  HAGESETHC   \n",
       "\n",
       "    EDIT_DATE EDIT_TYPE                        ...                          \\\n",
       "0  2014-02-26         O                        ...                           \n",
       "1  2014-02-26         O                        ...                           \n",
       "2  2014-02-26         O                        ...                           \n",
       "3  2014-02-26         O                        ...                           \n",
       "4  2014-02-26         O                        ...                           \n",
       "\n",
       "        SOURCE SPEED  STATUS  SUFFIX   TF_COST THEOR_RANG  TRAVEL_FLA  TYPE  \\\n",
       "0   DOP2008TFC     5       O    None  0.090264          N           2    RD   \n",
       "1  FDOR2007TFC    25       O    None  0.017222          N           2    RD   \n",
       "2   DOP2008TFC     5       O    None  0.091403          N           2    RD   \n",
       "3   DOP2008TFC     5       O    None  0.090467          N           2    RD   \n",
       "4   DOP2008TFC     5       O    None  0.089032          N           2    RD   \n",
       "\n",
       "   T_ELEV                                           geometry  \n",
       "0       0  LINESTRING (623093.510832076 164171.1041567803...  \n",
       "1       0  LINESTRING (622515.1922320754 163214.635256776...  \n",
       "2       0  LINESTRING (623548.0931320738 165478.253356780...  \n",
       "3       0  LINESTRING (623167.8413320724 164328.903156780...  \n",
       "4       0  LINESTRING (623546.4237320729 165409.808056779...  \n",
       "\n",
       "[5 rows x 46 columns]"
      ]
     },
     "execution_count": 2,
     "metadata": {},
     "output_type": "execute_result"
    }
   ],
   "source": [
    "# Waverly  Hills\n",
    "STREETS = gpd.read_file(path+'Waverly_Trim/Waverly.shp')\n",
    "STREETS.to_crs(epsg=2779, inplace=True) # NAD83(HARN) / Florida North\n",
    "STREETS.to_file(path+'WAVERLY/WAVERLY.shp')\n",
    "STREETS[:5]"
   ]
  },
  {
   "cell_type": "markdown",
   "metadata": {},
   "source": [
    "### Plot Waverly Hills"
   ]
  },
  {
   "cell_type": "code",
   "execution_count": 3,
   "metadata": {
    "collapsed": false
   },
   "outputs": [
    {
     "data": {
      "text/plain": [
       "<matplotlib.axes._subplots.AxesSubplot at 0x1144fa210>"
      ]
     },
     "execution_count": 3,
     "metadata": {},
     "output_type": "execute_result"
    },
    {
     "data": {
      "image/png": "[encoded data removed]",
      "text/plain": [
       "<matplotlib.figure.Figure at 0x103878a50>"
      ]
     },
     "metadata": {},
     "output_type": "display_data"
    }
   ],
   "source": [
    "STREETS.plot()"
   ]
  },
  {
   "cell_type": "markdown",
   "metadata": {},
   "source": [
    "### Instantiate Network and read in `WAVERLY.shp`"
   ]
  },
  {
   "cell_type": "code",
   "execution_count": 4,
   "metadata": {
    "collapsed": true
   },
   "outputs": [],
   "source": [
    "ntw = ps.Network(path+'WAVERLY/WAVERLY.shp')\n",
    "shp_W = ps.open(path+'WAVERLY/WAVERLY.shp')"
   ]
  },
  {
   "cell_type": "markdown",
   "metadata": {},
   "source": [
    "### Create Buffer of 200 meters"
   ]
  },
  {
   "cell_type": "code",
   "execution_count": 5,
   "metadata": {
    "collapsed": false
   },
   "outputs": [
    {
     "data": {
      "text/plain": [
       "0    POLYGON ((623182.150053937 164350.7973140236, ...\n",
       "1    POLYGON ((622609.2522032181 163391.5139959676,...\n",
       "2    POLYGON ((623558.0958294807 165678.3788460373,...\n",
       "3    POLYGON ((623266.5120703815 164503.29148902, 6...\n",
       "4    POLYGON ((623558.3641320487 165609.8080567809,...\n",
       "dtype: object"
      ]
     },
     "execution_count": 5,
     "metadata": {},
     "output_type": "execute_result"
    }
   ],
   "source": [
    "buff = STREETS.buffer(200)  #Buffer\n",
    "buff[:5]"
   ]
  },
  {
   "cell_type": "markdown",
   "metadata": {},
   "source": [
    "### Plot Buffers of Individual Streets"
   ]
  },
  {
   "cell_type": "code",
   "execution_count": 6,
   "metadata": {
    "collapsed": false
   },
   "outputs": [
    {
     "data": {
      "text/plain": [
       "<matplotlib.axes._subplots.AxesSubplot at 0x116a2b410>"
      ]
     },
     "execution_count": 6,
     "metadata": {},
     "output_type": "execute_result"
    },
    {
     "data": {
      "image/png": "[encoded data removed]",
      "text/plain": [
       "<matplotlib.figure.Figure at 0x11690ce90>"
      ]
     },
     "metadata": {},
     "output_type": "display_data"
    }
   ],
   "source": [
    "buff.plot()"
   ]
  },
  {
   "cell_type": "markdown",
   "metadata": {},
   "source": [
    "### Create a Unary Union of the individual street buffers"
   ]
  },
  {
   "cell_type": "code",
   "execution_count": 7,
   "metadata": {
    "collapsed": false
   },
   "outputs": [
    {
     "data": {
      "text/html": [
       "<div>\n",
       "<table border=\"1\" class=\"dataframe\">\n",
       "  <thead>\n",
       "    <tr style=\"text-align: right;\">\n",
       "      <th></th>\n",
       "      <th>geometry</th>\n",
       "    </tr>\n",
       "  </thead>\n",
       "  <tbody>\n",
       "    <tr>\n",
       "      <th>0</th>\n",
       "      <td>POLYGON ((622673.874236838 163055.508300971, 6...</td>\n",
       "    </tr>\n",
       "  </tbody>\n",
       "</table>\n",
       "</div>"
      ],
      "text/plain": [
       "                                            geometry\n",
       "0  POLYGON ((622673.874236838 163055.508300971, 6..."
      ]
     },
     "execution_count": 7,
     "metadata": {},
     "output_type": "execute_result"
    }
   ],
   "source": [
    "buffU = buff.unary_union  #Buffer Union\n",
    "buff1 = gpd.GeoSeries(buffU)\n",
    "buff1.crs = STREETS.crs\n",
    "Buff = gpd.GeoDataFrame(buff1, crs=STREETS.crs)\n",
    "Buff.columns = ['geometry']\n",
    "Buff"
   ]
  },
  {
   "cell_type": "markdown",
   "metadata": {},
   "source": [
    "### Plot the unary union buffer"
   ]
  },
  {
   "cell_type": "code",
   "execution_count": 8,
   "metadata": {
    "collapsed": false
   },
   "outputs": [
    {
     "data": {
      "text/plain": [
       "<matplotlib.axes._subplots.AxesSubplot at 0x117814d90>"
      ]
     },
     "execution_count": 8,
     "metadata": {},
     "output_type": "execute_result"
    },
    {
     "data": {
      "image/png": "[encoded data removed]",
      "text/plain": [
       "<matplotlib.figure.Figure at 0x1178237d0>"
      ]
     },
     "metadata": {},
     "output_type": "display_data"
    }
   ],
   "source": [
    "Buff.plot()"
   ]
  },
  {
   "cell_type": "markdown",
   "metadata": {},
   "source": [
    "### Create 1000 random points within the bounds of `WAVERLY.shp`"
   ]
  },
  {
   "cell_type": "code",
   "execution_count": 9,
   "metadata": {
    "collapsed": false
   },
   "outputs": [
    {
     "data": {
      "text/html": [
       "<div>\n",
       "<table border=\"1\" class=\"dataframe\">\n",
       "  <thead>\n",
       "    <tr style=\"text-align: right;\">\n",
       "      <th></th>\n",
       "      <th>geometry</th>\n",
       "    </tr>\n",
       "  </thead>\n",
       "  <tbody>\n",
       "    <tr>\n",
       "      <th>0</th>\n",
       "      <td>POINT (623388.4926405598 166286.4795721661)</td>\n",
       "    </tr>\n",
       "    <tr>\n",
       "      <th>1</th>\n",
       "      <td>POINT (622672.4092589854 162943.9994787998)</td>\n",
       "    </tr>\n",
       "    <tr>\n",
       "      <th>2</th>\n",
       "      <td>POINT (621913.3153830337 164903.3379650218)</td>\n",
       "    </tr>\n",
       "    <tr>\n",
       "      <th>3</th>\n",
       "      <td>POINT (621612.0857702466 164217.1288344094)</td>\n",
       "    </tr>\n",
       "    <tr>\n",
       "      <th>4</th>\n",
       "      <td>POINT (623414.8982675247 163698.4405537729)</td>\n",
       "    </tr>\n",
       "  </tbody>\n",
       "</table>\n",
       "</div>"
      ],
      "text/plain": [
       "                                      geometry\n",
       "0  POINT (623388.4926405598 166286.4795721661)\n",
       "1  POINT (622672.4092589854 162943.9994787998)\n",
       "2  POINT (621913.3153830337 164903.3379650218)\n",
       "3  POINT (621612.0857702466 164217.1288344094)\n",
       "4  POINT (623414.8982675247 163698.4405537729)"
      ]
     },
     "execution_count": 9,
     "metadata": {},
     "output_type": "execute_result"
    }
   ],
   "source": [
    "np.random.seed(352)\n",
    "x = np.random.uniform(shp_W.bbox[0], shp_W.bbox[2], 100)\n",
    "np.random.seed(850)\n",
    "y = np.random.uniform(shp_W.bbox[1], shp_W.bbox[3], 100)  \n",
    "coords0= zip(x,y)\n",
    "coords = [shapely.geometry.Point(i) for i in coords0]\n",
    "Rand = gpd.GeoDataFrame(coords)\n",
    "Rand.crs = STREETS.crs\n",
    "Rand.columns = ['geometry']\n",
    "Rand[:5]"
   ]
  },
  {
   "cell_type": "markdown",
   "metadata": {},
   "source": [
    "### Plot the 1000 random "
   ]
  },
  {
   "cell_type": "code",
   "execution_count": 10,
   "metadata": {
    "collapsed": false
   },
   "outputs": [
    {
     "data": {
      "text/plain": [
       "<matplotlib.axes._subplots.AxesSubplot at 0x117912ed0>"
      ]
     },
     "execution_count": 10,
     "metadata": {},
     "output_type": "execute_result"
    },
    {
     "data": {
      "image/png": "[encoded data removed]",
      "text/plain": [
       "<matplotlib.figure.Figure at 0x1178f6b10>"
      ]
     },
     "metadata": {},
     "output_type": "display_data"
    }
   ],
   "source": [
    "Rand.plot()"
   ]
  },
  {
   "cell_type": "markdown",
   "metadata": {},
   "source": [
    "### Create `GeoPandas` DF of the random points within the Unary Buffer"
   ]
  },
  {
   "cell_type": "code",
   "execution_count": 11,
   "metadata": {
    "collapsed": false
   },
   "outputs": [
    {
     "data": {
      "text/html": [
       "<div>\n",
       "<table border=\"1\" class=\"dataframe\">\n",
       "  <thead>\n",
       "    <tr style=\"text-align: right;\">\n",
       "      <th></th>\n",
       "      <th>geometry</th>\n",
       "    </tr>\n",
       "  </thead>\n",
       "  <tbody>\n",
       "    <tr>\n",
       "      <th>0</th>\n",
       "      <td>POINT (623388.4926405598 166286.4795721661)</td>\n",
       "    </tr>\n",
       "    <tr>\n",
       "      <th>1</th>\n",
       "      <td>()</td>\n",
       "    </tr>\n",
       "    <tr>\n",
       "      <th>2</th>\n",
       "      <td>POINT (621913.3153830337 164903.3379650218)</td>\n",
       "    </tr>\n",
       "    <tr>\n",
       "      <th>3</th>\n",
       "      <td>POINT (621612.0857702466 164217.1288344094)</td>\n",
       "    </tr>\n",
       "    <tr>\n",
       "      <th>4</th>\n",
       "      <td>()</td>\n",
       "    </tr>\n",
       "  </tbody>\n",
       "</table>\n",
       "</div>"
      ],
      "text/plain": [
       "                                      geometry\n",
       "0  POINT (623388.4926405598 166286.4795721661)\n",
       "1                                           ()\n",
       "2  POINT (621913.3153830337 164903.3379650218)\n",
       "3  POINT (621612.0857702466 164217.1288344094)\n",
       "4                                           ()"
      ]
     },
     "execution_count": 11,
     "metadata": {},
     "output_type": "execute_result"
    }
   ],
   "source": [
    "Inter = [Buff['geometry'].intersection(p) for p in Rand['geometry']]\n",
    "INTER = gpd.GeoDataFrame(Inter, crs=STREETS.crs)\n",
    "INTER.columns = ['geometry']\n",
    "INTER[:5]"
   ]
  },
  {
   "cell_type": "markdown",
   "metadata": {},
   "source": [
    "### Plot the points within the Unary Buffer"
   ]
  },
  {
   "cell_type": "code",
   "execution_count": 12,
   "metadata": {
    "collapsed": false
   },
   "outputs": [
    {
     "data": {
      "text/plain": [
       "<matplotlib.axes._subplots.AxesSubplot at 0x117f80090>"
      ]
     },
     "execution_count": 12,
     "metadata": {},
     "output_type": "execute_result"
    },
    {
     "data": {
      "image/png": "[encoded data removed]",
      "text/plain": [
       "<matplotlib.figure.Figure at 0x117ef8550>"
      ]
     },
     "metadata": {},
     "output_type": "display_data"
    }
   ],
   "source": [
    "INTER.plot()"
   ]
  },
  {
   "cell_type": "markdown",
   "metadata": {},
   "source": [
    "### Add only intersecting records to a list "
   ]
  },
  {
   "cell_type": "code",
   "execution_count": 13,
   "metadata": {
    "collapsed": false
   },
   "outputs": [
    {
     "data": {
      "text/plain": [
       "[<shapely.geometry.point.Point at 0x1178f6f90>,\n",
       " <shapely.geometry.point.Point at 0x117f80610>,\n",
       " <shapely.geometry.point.Point at 0x117f80710>,\n",
       " <shapely.geometry.point.Point at 0x117f80910>,\n",
       " <shapely.geometry.point.Point at 0x117f80a10>]"
      ]
     },
     "execution_count": 13,
     "metadata": {},
     "output_type": "execute_result"
    }
   ],
   "source": [
    "# Add records that are points within the buffer\n",
    "point_in = []\n",
    "for p in INTER['geometry']:\n",
    "    if type(p) == shapely.geometry.point.Point:\n",
    "        point_in.append(p)\n",
    "point_in[:5]"
   ]
  },
  {
   "cell_type": "markdown",
   "metadata": {},
   "source": [
    "### Keep the first 5 for Supply facilities and the last 10 for Demand facilities"
   ]
  },
  {
   "cell_type": "code",
   "execution_count": 14,
   "metadata": {
    "collapsed": true
   },
   "outputs": [],
   "source": [
    "SUPPLY = gpd.GeoDataFrame(point_in[:5], crs=STREETS.crs)\n",
    "SUPPLY.columns = ['geometry']\n",
    "DEMAND = gpd.GeoDataFrame(point_in[-10:], crs=STREETS.crs)\n",
    "DEMAND.columns = ['geometry']\n",
    "SUPPLY.to_file(path+'SUPPLY')\n",
    "DEMAND.to_file(path+'DEMAND')"
   ]
  },
  {
   "cell_type": "code",
   "execution_count": 17,
   "metadata": {
    "collapsed": false
   },
   "outputs": [
    {
     "data": {
      "text/html": [
       "<div>\n",
       "<table border=\"1\" class=\"dataframe\">\n",
       "  <thead>\n",
       "    <tr style=\"text-align: right;\">\n",
       "      <th></th>\n",
       "      <th>geometry</th>\n",
       "    </tr>\n",
       "  </thead>\n",
       "  <tbody>\n",
       "    <tr>\n",
       "      <th>0</th>\n",
       "      <td>POINT (623388.4926405598 166286.4795721661)</td>\n",
       "    </tr>\n",
       "    <tr>\n",
       "      <th>1</th>\n",
       "      <td>POINT (621913.3153830337 164903.3379650218)</td>\n",
       "    </tr>\n",
       "  </tbody>\n",
       "</table>\n",
       "</div>"
      ],
      "text/plain": [
       "                                      geometry\n",
       "0  POINT (623388.4926405598 166286.4795721661)\n",
       "1  POINT (621913.3153830337 164903.3379650218)"
      ]
     },
     "execution_count": 17,
     "metadata": {},
     "output_type": "execute_result"
    }
   ],
   "source": [
    "SUPPLY[:2]"
   ]
  },
  {
   "cell_type": "code",
   "execution_count": 16,
   "metadata": {
    "collapsed": false
   },
   "outputs": [
    {
     "data": {
      "text/html": [
       "<div>\n",
       "<table border=\"1\" class=\"dataframe\">\n",
       "  <thead>\n",
       "    <tr style=\"text-align: right;\">\n",
       "      <th></th>\n",
       "      <th>geometry</th>\n",
       "    </tr>\n",
       "  </thead>\n",
       "  <tbody>\n",
       "    <tr>\n",
       "      <th>0</th>\n",
       "      <td>POINT (621383.7752160889 165304.858405704)</td>\n",
       "    </tr>\n",
       "    <tr>\n",
       "      <th>1</th>\n",
       "      <td>POINT (622220.6222151037 164417.1261164876)</td>\n",
       "    </tr>\n",
       "  </tbody>\n",
       "</table>\n",
       "</div>"
      ],
      "text/plain": [
       "                                      geometry\n",
       "0   POINT (621383.7752160889 165304.858405704)\n",
       "1  POINT (622220.6222151037 164417.1261164876)"
      ]
     },
     "execution_count": 16,
     "metadata": {},
     "output_type": "execute_result"
    }
   ],
   "source": [
    "DEMAND[:2]"
   ]
  },
  {
   "cell_type": "markdown",
   "metadata": {},
   "source": [
    "### Instaniate non-solution graphs to be drawn"
   ]
  },
  {
   "cell_type": "code",
   "execution_count": null,
   "metadata": {
    "collapsed": true
   },
   "outputs": [],
   "source": [
    "# Roads and Nodes\n",
    "g = nx.Graph()\n",
    "# Graph of Roads and Nodes\n",
    "g1 = nx.MultiGraph()\n",
    "# Clients\n",
    "GRAPH_supply = nx.Graph()\n",
    "# Snapped Supply\n",
    "g_supply = nx.Graph()\n",
    "# Demand\n",
    "GRAPH_demand = nx.Graph()\n",
    "# Snapped Demand\n",
    "g_demand = nx.Graph()"
   ]
  },
  {
   "cell_type": "markdown",
   "metadata": {},
   "source": [
    "### Instantiate and fill Supply and Demand point dictionaries"
   ]
  },
  {
   "cell_type": "code",
   "execution_count": null,
   "metadata": {
    "collapsed": true
   },
   "outputs": [],
   "source": [
    "points_supply = {} \n",
    "points_demand = {}\n",
    "\n",
    "SPLY = ps.open(path+'SUPPLY/SUPPLY.shp')\n",
    "for idx, coords in enumerate(SPLY):\n",
    "    GRAPH_supply.add_node(idx)\n",
    "    points_supply[idx] = coords\n",
    "    GRAPH_supply.node[idx] = coords\n",
    "    \n",
    "DMND = ps.open(path+'DEMAND/DEMAND.shp')\n",
    "for idx, coords in enumerate(DMND):\n",
    "    GRAPH_demand.add_node(idx)\n",
    "    points_demand[idx] = coords\n",
    "    GRAPH_demand.node[idx] = coords"
   ]
  },
  {
   "cell_type": "markdown",
   "metadata": {},
   "source": [
    "### Create Simulated Supply and Demand"
   ]
  },
  {
   "cell_type": "code",
   "execution_count": null,
   "metadata": {
    "collapsed": true
   },
   "outputs": [],
   "source": [
    "# Supply\n",
    "Si = np.random.randint(50, 200, 5)\n",
    "Si = Si.reshape(100,1)\n",
    "SiSum = np.sum(Si)\n",
    "# Demand\n",
    "Dj = np.random.randint(10, 100, 10)\n",
    "\n",
    "DjSum = np.sum(Dj)"
   ]
  },
  {
   "cell_type": "code",
   "execution_count": null,
   "metadata": {
    "collapsed": true
   },
   "outputs": [],
   "source": []
  },
  {
   "cell_type": "markdown",
   "metadata": {
    "collapsed": true
   },
   "source": [
    "<font size='5' face='Times New Roman'><b>1.8 <u>Draw graphs of roads, simplified network, and random supply & demand nodes</u></b></font>"
   ]
  },
  {
   "cell_type": "code",
   "execution_count": null,
   "metadata": {
    "collapsed": false
   },
   "outputs": [],
   "source": [
    "#Instantiate Figure\n",
    "figsize(10,10)\n",
    "# Draw Graph of Actual Nodes and Roads\n",
    "for e in ntw.edges:\n",
    "    g.add_edge(*e)\n",
    "nx.draw(g, ntw.node_coords, node_size=5, alpha=0.25, edge_color='r', width=2)\n",
    "# Draw only unique edges in graph\n",
    "for e in ntw.graphedges:\n",
    "    g1.add_edge(*e)\n",
    "    # highlights cases where start and end node are the same\n",
    "    if e[0]==e[1]:\n",
    "        g1.add_node(e[0])\n",
    "for node_id in g1.node:\n",
    "    g1.node[node_id] = ntw.node_coords[node_id]\n",
    "nx.draw(g1, ntw.node_coords, node_size=10, alpha=0.5)\n",
    "# Draw Graph of Random Supply Points\n",
    "nx.draw(GRAPH_supply, points_supply, \n",
    "    node_size=75, alpha=1, node_color='b')\n",
    "# Draw Graph of Random Demand Points\n",
    "nx.draw(GRAPH_demand, points_demand, \n",
    "    node_size=100, alpha=1, node_color='c')\n",
    "# Legend (Ordered Dictionary)\n",
    "LEGEND = OrderedDict()\n",
    "LEGEND['Network Nodes']=g\n",
    "LEGEND['Roads']=g\n",
    "LEGEND['Graph Vertices']=g1\n",
    "LEGEND['Graph Edges']=g1\n",
    "LEGEND['Supply Nodes']=GRAPH_supply\n",
    "LEGEND['Demand Nodes']=GRAPH_demand\n",
    "legend(LEGEND, loc='best')\n",
    "# Title\n",
    "title('Waverly Hills\\n Tallahassee, Florida', family='Times New Roman', \n",
    "      size=40, color='k', backgroundcolor='w', weight='bold')"
   ]
  },
  {
   "cell_type": "markdown",
   "metadata": {
    "collapsed": true
   },
   "source": [
    "<font size='5' face='Times New Roman'><b>1.9 <u>Create Supply and Demand</u></b></font>"
   ]
  },
  {
   "cell_type": "code",
   "execution_count": null,
   "metadata": {
    "collapsed": false
   },
   "outputs": [],
   "source": []
  },
  {
   "cell_type": "markdown",
   "metadata": {
    "collapsed": true
   },
   "source": [
    "<font size='5' face='Times New Roman'><b>1.10 <u>Instantiate supply and demand shapefiles</u></b></font>"
   ]
  },
  {
   "cell_type": "code",
   "execution_count": null,
   "metadata": {
    "collapsed": true
   },
   "outputs": [],
   "source": []
  },
  {
   "cell_type": "code",
   "execution_count": null,
   "metadata": {
    "collapsed": true
   },
   "outputs": [],
   "source": [
    "# Convert store SUPPLY locations to LatLon\n",
    "supply_locations = SPLY\n",
    "supply_locations.to_crs(epsg=32616, inplace=True) # UTM 16N\n",
    "supply_locations_LonLat_Dict = OrderedDict()\n",
    "supply_locations_LonLat_List = []\n",
    "\n",
    "for i,j in supply_locations['geometry'].iteritems():\n",
    "    supply_locations_LonLat_Dict[y_list[i]] = utm.to_latlon(j.xy[0][-1], j.xy[1][-1], 16, 'N')  \n",
    "    supply_locations_LonLat_Dict.append((utm.to_latlon(j.xy[0][-1], j.xy[1][-1], 16, 'N')))\n",
    "\n",
    "supply_locations_Lat_List = []\n",
    "supply_locations_Lon_List = []\n",
    "    \n",
    "for i in supply_locations_LonLat_List:\n",
    "    supply_locations_Lat_List.append(i[0])\n",
    "for i in supply_locations_LonLat_List:\n",
    "    supply_locations_Lon_List.append(i[1])\n",
    "    \n",
    "    \n",
    "# Convert store DEMAND locations to LatLon\n",
    "demand_locations = DMND\n",
    "demand_locations.to_crs(epsg=32616, inplace=True) # UTM 16N\n",
    "demand_locations_LonLat_Dict = OrderedDict()\n",
    "demand_locations_LonLat_List = []\n",
    "\n",
    "for i,j in demand_locations['geometry'].iteritems():\n",
    "    demand_locations_LonLat_Dict[y_list[i]] = utm.to_latlon(j.xy[0][-1], j.xy[1][-1], 16, 'N')  \n",
    "    demand_locations_LonLat_Dict.append((utm.to_latlon(j.xy[0][-1], j.xy[1][-1], 16, 'N')))\n",
    "\n",
    "demand_locations_Lat_List = []\n",
    "demand_locations_Lon_List = []\n",
    "    \n",
    "for i in demand_locations_LonLat_List:\n",
    "    demand_locations_Lat_List.append(i[0])\n",
    "for i in demand_locations_LonLat_List:\n",
    "    demand_locations_Lon_List.append(i[1])"
   ]
  },
  {
   "cell_type": "code",
   "execution_count": null,
   "metadata": {
    "collapsed": true
   },
   "outputs": [],
   "source": []
  },
  {
   "cell_type": "code",
   "execution_count": null,
   "metadata": {
    "collapsed": true
   },
   "outputs": [],
   "source": []
  },
  {
   "cell_type": "code",
   "execution_count": null,
   "metadata": {
    "collapsed": true
   },
   "outputs": [],
   "source": []
  },
  {
   "cell_type": "code",
   "execution_count": null,
   "metadata": {
    "collapsed": false
   },
   "outputs": [],
   "source": [
    "# Supply\n",
    "supply_SHP = shp.Writer(shp.POINT)\n",
    "# Add Random Points\n",
    "for i,j in rand_coords_supply:\n",
    "    supply.point(i,j)\n",
    "# Add Fields\n",
    "supply_SHP.field('Si_ID')\n",
    "supply_SHP.field('Supply')\n",
    "supply_SHP.field('LAT')\n",
    "supply_SHP.field('LON')\n",
    "counter = 0\n",
    "for i in range(len(rand_coords_supply)):\n",
    "    counter = counter + 1\n",
    "    supply_SHP.record('x'+ str(counter)+'_--', Si[i], supply_locations_Lat_List[i], supply_locations_Lon_List[i])\n",
    "# Save Shapefile    \n",
    "supply_SHP.save('path.../RandomPoints_SUPPLY')\n",
    "\n",
    "#Demand\n",
    "demand = shp.Writer(shp.POINT)\n",
    "# Add Random Points\n",
    "for i,j in rand_coords_demand:\n",
    "    demand.point(i,j)\n",
    "# Add Fields\n",
    "demand.field('Dj_ID_x')\n",
    "demand.field('Demand')\n",
    "demand.field('LAT')\n",
    "demand.field('LON')\n",
    "counter = 0\n",
    "for i in range(len(rand_coords_demand)):\n",
    "    counter = counter + 1\n",
    "    demand.record('x--_'+ str(counter), Dj[i], demand_locations_Lat_List[i], demand_locations_Lon_List[i])\n",
    "# Save Shapefile    \n",
    "demand.save('path.../RandomPoints_DEMAND')"
   ]
  },
  {
   "cell_type": "markdown",
   "metadata": {
    "collapsed": true
   },
   "source": [
    "<font size='5' face='Times New Roman'><b>1.11 <u>Snap Observations to NTW</u></b></font>"
   ]
  },
  {
   "cell_type": "code",
   "execution_count": null,
   "metadata": {
    "collapsed": false
   },
   "outputs": [],
   "source": [
    "t1 = time.time()\n",
    "ntw.snapobservations('shapefiles/RandomPoints_SUPPLY.shp', \n",
    "                     'Rand_Points_SUPPLY', attribute=True)\n",
    "ntw.snapobservations('shapefiles/RandomPoints_DEMAND.shp', \n",
    "                     'Rand_Points_DEMAND', attribute=True)\n",
    "print round(time.time()-t1, 4), 'seconds'"
   ]
  },
  {
   "cell_type": "markdown",
   "metadata": {
    "collapsed": true
   },
   "source": [
    "<font size='5' face='Times New Roman'><b>1.12 <u>Draw NTW, snapped coords, & random coords</u></b></font>"
   ]
  },
  {
   "cell_type": "code",
   "execution_count": null,
   "metadata": {
    "collapsed": false
   },
   "outputs": [],
   "source": [
    "# Instantiate Figure\n",
    "figsize(10,10)\n",
    "# Draw Graph of Roads\n",
    "for e in ntw.edges:\n",
    "    g.add_edge(*e)\n",
    "nx.draw(g, ntw.node_coords, node_size=5, alpha=0.25, edge_color='r', width=2)\n",
    "# Draw Graph of Snapped Supply Nodes\n",
    "g_supply = nx.Graph()\n",
    "for p,coords in ntw.pointpatterns['Rand_Points_SUPPLY'].snapped_coordinates.iteritems():\n",
    "    g_supply.add_node(p)\n",
    "    g_supply.node[p] = coords\n",
    "nx.draw(g_supply, ntw.pointpatterns['Rand_Points_SUPPLY'].snapped_coordinates, \n",
    "        node_size=100, alpha=1, node_color='b')\n",
    "# Draw Graph of Snapped Demand Nodes\n",
    "g_service = nx.Graph()\n",
    "for p,coords in ntw.pointpatterns['Rand_Points_DEMAND'].snapped_coordinates.iteritems():\n",
    "    g_demand.add_node(p)\n",
    "    g_demand.node[p] = coords\n",
    "nx.draw(g_demand, ntw.pointpatterns['Rand_Points_DEMAND'].snapped_coordinates, \n",
    "        node_size=100, alpha=1, node_color='c')\n",
    "# Draw Graph of Random Supply Points\n",
    "nx.draw(GRAPH_supply, points_supply, \n",
    "    node_size=20, alpha=1, node_color='y')\n",
    "# Draw Graph of Random Demand Points\n",
    "nx.draw(GRAPH_demand, points_demand, \n",
    "    node_size=20, alpha=1, node_color='w')\n",
    "\n",
    "# Legend (Ordered Dictionary)\n",
    "LEGEND = OrderedDict()\n",
    "LEGEND['Network Nodes']=g\n",
    "LEGEND['Roads']=g\n",
    "LEGEND['Snapped Supply']=g_supply\n",
    "LEGEND['Snapped Demand']=g_demand\n",
    "LEGEND['Supply Nodes']=GRAPH_supply\n",
    "LEGEND['Demand Nodes']=GRAPH_demand\n",
    "\n",
    "legend(LEGEND, loc='best')\n",
    "# Title\n",
    "title('Waverly Hills\\n Tallahassee, Florida', family='Times New Roman', \n",
    "      size=40, color='k', backgroundcolor='w', weight='bold')"
   ]
  },
  {
   "cell_type": "markdown",
   "metadata": {
    "collapsed": true
   },
   "source": [
    "<font size='5' face='Times New Roman'><b>1.13 <u>Create distance matrix</u></b></font>"
   ]
  },
  {
   "cell_type": "code",
   "execution_count": null,
   "metadata": {
    "collapsed": false
   },
   "outputs": [],
   "source": [
    "t1 = time.time()\n",
    "All_Neigh_Dist = ntw.allneighbordistances(sourcepattern=ntw.pointpatterns['Rand_Points_SUPPLY'],\n",
    "                                       destpattern=ntw.pointpatterns['Rand_Points_DEMAND'])\n",
    "All_Dist_MILES = All_Neigh_Dist * float(10000/90) * 0.6214\n",
    "seconds = round(time.time()-t1, 4)\n",
    "print seconds, 'seconds'\n",
    "print 'Supply to Demand Matrix Shape --> ', All_Dist_MILES.shape"
   ]
  },
  {
   "cell_type": "markdown",
   "metadata": {
    "collapsed": true
   },
   "source": [
    "<font size='7' face='Times New Roman'><b>2. <u>Optimize</u></b></font>"
   ]
  },
  {
   "cell_type": "code",
   "execution_count": null,
   "metadata": {
    "collapsed": false
   },
   "outputs": [],
   "source": [
    "\n",
    "import numpy as np\n",
    "import gurobipy as gbp\n",
    "import time\n",
    "np.random.seed(352)\n",
    "\n",
    "def GuTransProb(Cij, Si, Dj):\n",
    "    t1 = time.time()\n",
    "    #  Data\n",
    "    \n",
    "    Cij = Cij.reshape(matrix_rows,matrix_cols)\n",
    "    Si = Si.reshape(matrix_rows,1)\n",
    "    Dj = Dj.reshape(matrix_cols,1)\n",
    "    \n",
    "    # Indices & Variable Names\n",
    "    supply_nodes = len(Cij)\n",
    "    demand_nodes = len(Cij[0])\n",
    "    supply_nodes_range = range(len(Cij))\n",
    "    demand_nodes_range = range(len(Cij[0]))\n",
    "    all_nodes_len = len(Cij) * len(Cij[0])\n",
    "    ALL_nodes_range = range(all_nodes_len)\n",
    "    \n",
    "    # Create Model, Set MIP Focus, Add Variables, & Update Model\n",
    "    m = gbp.Model(' -- The Transportation Problem -- ')\n",
    "    # Set MIP Focus to 2 for optimality\n",
    "    gbp.setParam('MIPFocus', 2)\n",
    "    descision_var = []\n",
    "    for orig in supply_nodes_range:\n",
    "        descision_var.append([])\n",
    "        for dest in demand_nodes_range:\n",
    "            descision_var[orig].append(m.addVar(vtype=gbp.GRB.CONTINUOUS, \n",
    "                                            obj=Cij[orig][dest], \n",
    "                                            name='x'+str(orig+10001)+'_'+str(dest+10001)))\n",
    "    # Update Model Variables\n",
    "    m.update()       \n",
    "    \n",
    "    #  Set Objective Function\n",
    "    m.setObjective(gbp.quicksum(Cij[orig][dest]*descision_var[orig][dest] \n",
    "                            for orig in supply_nodes_range for dest in demand_nodes_range), \n",
    "                            gbp.GRB.MINIMIZE)\n",
    "                            \n",
    "    # Add Supply Constraints\n",
    "    for orig in supply_nodes_range:\n",
    "        m.addConstr(gbp.quicksum(descision_var[orig][dest] \n",
    "                            for dest in demand_nodes_range) - Si[orig] <= 0)\n",
    "    # Add Demand Constraints\n",
    "    for orig in demand_nodes_range:  \n",
    "        m.addConstr(gbp.quicksum(descision_var[dest][orig] \n",
    "                            for dest in supply_nodes_range) - Dj[orig] >= 0)\n",
    "    \n",
    "    #  Optimize and Print Results\n",
    "    try:\n",
    "        m.optimize()\n",
    "    except Exception as e:\n",
    "        print e\n",
    "        \n",
    "    t2 = time.time()-t1\n",
    "    print '******************************************************************************'\n",
    "    print '| From SUPPLY Facility to DEMAND Facility x(Si)_(Dj) shipping # of units  '\n",
    "    print '| ↓↓↓↓↓↓↓↓↓↓↓↓↓↓↓↓↓↓↓↓↓↓↓↓↓↓↓↓↓↓↓↓↓↓↓↓↓↓↓↓↓↓↓↓↓↓↓↓↓↓↓↓↓↓↓↓↓↓↓↓↓↓↓↓↓↓↓↓↓↓↓↓'\n",
    "    print '|'\n",
    "    selected = {}\n",
    "    Closed = []\n",
    "    for v in m.getVars():\n",
    "        var = '%s' % v.VarName\n",
    "        if v.x > 0:\n",
    "            units = '%i' % v.x\n",
    "            selected[var] = units\n",
    "            print '|  Supply Facility #', var[1:6], 'is shipping', units, \\\n",
    "                                                'units to Demand Facility #', var[-5:]\n",
    "        else:\n",
    "            Closed.append([var[1:6], var[-5:]])\n",
    "    print '******************************************************************************'\n",
    "    print '    | Objective Value --------------------- ', int(m.objVal)\n",
    "    print '    | Supply Facilities ------------------- ', len(Si)\n",
    "    print '    | Total Supply Units ------------------ ', Si.sum()\n",
    "    print '    | Demand Facilites -------------------- ', len(Dj)\n",
    "    print '    | Total Demand Units ------------------ ', Dj.sum()\n",
    "    print '    | Total Potential Combinations -------- ', len(Si)*len(Dj)\n",
    "    print '    | Actual Combinations  ---------------- ', len(selected)\n",
    "    print '    | Real Time to Optimize (sec.) -------- ', t2\n",
    "    print '******************************************************************************'\n",
    "    print '  --  The Transportation Simplex with Gurobi --'\n",
    "    m.write('path.lp')\n",
    "    \n",
    "#########################################################################################\n",
    "# Data can be read-in or simulated\n",
    "    \n",
    "Supply = np.random.randint(50,200,5)   # Vector of Units Supplied\n",
    "Demand = np.random.randint(25,30,7)    # Vector of Units Demanded\n",
    "\n",
    "matrix_rows = len(Supply)                # Supply (i) x Demand (j)\n",
    "matrix_cols = len(Demand)\n",
    "\n",
    "Cost_Matrix = np.random.randint(3, \n",
    "                                50, \n",
    "                                matrix_rows*matrix_cols)\n",
    "# Call Function   \n",
    "try:\n",
    "    GuTransProb(Cij=Cost_Matrix, Si=Supply, Dj=Demand)\n",
    "    print '\\nJames Gaboardi, 2016'\n",
    "    print '*******************************************************************'\\\n",
    "                                        '**********************\\n\\n'\n",
    "except Exception as e:\n",
    "    print e"
   ]
  }
 ],
 "metadata": {
  "kernelspec": {
   "display_name": "Python 2",
   "language": "python",
   "name": "python2"
  },
  "language_info": {
   "codemirror_mode": {
    "name": "ipython",
    "version": 2
   },
   "file_extension": ".py",
   "mimetype": "text/x-python",
   "name": "python",
   "nbconvert_exporter": "python",
   "pygments_lexer": "ipython2",
   "version": "2.7.10"
  }
 },
 "nbformat": 4,
 "nbformat_minor": 0
}
